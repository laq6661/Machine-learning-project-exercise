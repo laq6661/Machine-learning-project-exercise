{
 "cells": [
  {
   "cell_type": "code",
   "execution_count": 1,
   "metadata": {},
   "outputs": [],
   "source": [
    "import numpy as np\n",
    "import pandas as pd\n",
    "from sklearn.model_selection import train_test_split\n",
    "from sklearn.datasets import fetch_openml\n",
    "from sklearn import preprocessing\n",
    "from sklearn import datasets\n",
    "from sklearn.naive_bayes import GaussianNB"
   ]
  },
  {
   "cell_type": "code",
   "execution_count": 2,
   "metadata": {},
   "outputs": [],
   "source": [
    "X,Y = fetch_openml('iris',version= 1,return_X_y= True)"
   ]
  },
  {
   "cell_type": "code",
   "execution_count": 3,
   "metadata": {},
   "outputs": [
    {
     "data": {
      "text/plain": [
       "numpy.ndarray"
      ]
     },
     "execution_count": 3,
     "metadata": {},
     "output_type": "execute_result"
    }
   ],
   "source": [
    "type(X)"
   ]
  },
  {
   "cell_type": "code",
   "execution_count": 4,
   "metadata": {},
   "outputs": [
    {
     "name": "stdout",
     "output_type": "stream",
     "text": [
      "shape of X (150, 4)\n",
      "shape of Y (150,)\n",
      "[[5.1 3.5 1.4 0.2]\n",
      " [4.9 3.  1.4 0.2]\n",
      " [4.7 3.2 1.3 0.2]\n",
      " [4.6 3.1 1.5 0.2]\n",
      " [5.  3.6 1.4 0.2]\n",
      " [5.4 3.9 1.7 0.4]\n",
      " [4.6 3.4 1.4 0.3]\n",
      " [5.  3.4 1.5 0.2]\n",
      " [4.4 2.9 1.4 0.2]\n",
      " [4.9 3.1 1.5 0.1]]\n",
      "['Iris-setosa' 'Iris-setosa' 'Iris-setosa' 'Iris-setosa' 'Iris-setosa'\n",
      " 'Iris-setosa' 'Iris-setosa' 'Iris-setosa' 'Iris-setosa' 'Iris-setosa']\n"
     ]
    }
   ],
   "source": [
    "print(\"shape of X\",X.shape)\n",
    "print(\"shape of Y\",Y.shape)\n",
    "print(X[:10])\n",
    "print(Y[:10])\n",
    "# 1. sepal length in cm\n",
    "# 2. sepal width in cm\n",
    "# 3. petal length in cm\n",
    "# 4. petal width in cm"
   ]
  },
  {
   "cell_type": "code",
   "execution_count": 5,
   "metadata": {},
   "outputs": [],
   "source": [
    "class cat_deal:\n",
    "    def __init__(self):\n",
    "        self.max_len = 0#不同个数 0是nan嘛所以从1开始算\n",
    "        self.dict_map = {}\n",
    "    \n",
    "    def fit(self,cat_list):\n",
    "        index = 1\n",
    "        for cat_i in cat_list:\n",
    "            if cat_i not in self.dict_map:\n",
    "                self.dict_map[cat_i]  = index\n",
    "                index += 1\n",
    "        self.max_len = index + 1#保险一点怕有异常值\n",
    "    \n",
    "    def transform (self,cat_list):\n",
    "        cat_transform_list = []\n",
    "        for cat_i in cat_list:\n",
    "            if cat_i in self.dict_map:\n",
    "                cat_transform_list.append(self.dict_map[cat_i])\n",
    "            else:\n",
    "                cat_transform_list.append(0)\n",
    "        return cat_transform_list"
   ]
  },
  {
   "cell_type": "code",
   "execution_count": 17,
   "metadata": {},
   "outputs": [
    {
     "name": "stdout",
     "output_type": "stream",
     "text": [
      "(150,)\n",
      "int64\n"
     ]
    }
   ],
   "source": [
    "Y = Y.reshape(len(Y),-1)#需要reshape成列向量\n",
    "dict_cat_class = {}\n",
    "i = 0\n",
    "dict_cat_class[i] = cat_deal()\n",
    "dict_cat_class[i].fit(Y[:,i])\n",
    "Y[:,i] = dict_cat_class[i].transform(Y[:,i])\n",
    "Y = Y.reshape(len(Y))\n",
    "Y = Y.astype(int)\n",
    "print(Y.shape)\n",
    "print(Y.dtype)"
   ]
  },
  {
   "cell_type": "code",
   "execution_count": 18,
   "metadata": {},
   "outputs": [
    {
     "data": {
      "text/plain": [
       "array([1, 2, 2, 2, 2, 1, 3, 2, 3, 3, 3, 1, 2, 3, 1, 2, 1, 3, 1, 3, 1, 3,\n",
       "       3, 2, 2, 3, 3, 2, 3, 3, 1, 1, 1, 3, 1, 2, 2, 1, 3, 3, 2, 3, 1, 3,\n",
       "       3, 2, 3, 2, 3, 1, 2, 1, 2, 2, 3, 2, 1, 2, 2, 2, 3, 3, 3, 1, 2, 2,\n",
       "       3, 1, 3, 3, 1, 1, 1, 1, 1, 2, 1, 3, 2, 2, 1, 3, 3, 3, 3, 1, 1, 1,\n",
       "       1, 1, 3, 3, 2, 1, 1, 1, 2, 2, 3, 2, 2, 3, 1, 1, 3, 1, 3, 1, 2, 2,\n",
       "       1, 1, 2, 2, 2, 1, 2, 3, 3, 1])"
      ]
     },
     "execution_count": 18,
     "metadata": {},
     "output_type": "execute_result"
    }
   ],
   "source": [
    "trainX,testX,trainY,testY = train_test_split(X,Y,train_size = 120,test_size = 30,random_state = 233)\n",
    "trainY"
   ]
  },
  {
   "cell_type": "code",
   "execution_count": 20,
   "metadata": {},
   "outputs": [
    {
     "data": {
      "text/plain": [
       "0.9333333333333333"
      ]
     },
     "execution_count": 20,
     "metadata": {},
     "output_type": "execute_result"
    }
   ],
   "source": [
    "gnb = GaussianNB().fit(trainX,trainY)\n",
    "val_acc = gnb.score(testX,testY)\n",
    "val_acc"
   ]
  },
  {
   "cell_type": "code",
   "execution_count": null,
   "metadata": {},
   "outputs": [],
   "source": []
  },
  {
   "cell_type": "code",
   "execution_count": null,
   "metadata": {},
   "outputs": [],
   "source": []
  }
 ],
 "metadata": {
  "kernelspec": {
   "display_name": "Python 3",
   "language": "python",
   "name": "python3"
  },
  "language_info": {
   "codemirror_mode": {
    "name": "ipython",
    "version": 3
   },
   "file_extension": ".py",
   "mimetype": "text/x-python",
   "name": "python",
   "nbconvert_exporter": "python",
   "pygments_lexer": "ipython3",
   "version": "3.7.7"
  }
 },
 "nbformat": 4,
 "nbformat_minor": 4
}
