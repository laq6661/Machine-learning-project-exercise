{
 "cells": [
  {
   "cell_type": "code",
   "execution_count": 1,
   "metadata": {},
   "outputs": [],
   "source": [
    "import pandas as pd\n",
    "import numpy as np\n",
    "import lightgbm as lgb\n",
    "import tensorflow as tf\n",
    "from sklearn.metrics import roc_auc_score\n",
    "from sklearn.model_selection import train_test_split\n",
    "from tensorflow.keras import layers"
   ]
  },
  {
   "cell_type": "code",
   "execution_count": 2,
   "metadata": {},
   "outputs": [],
   "source": [
    "dir_path = '/home/liaoqing/program data/kaggle race/riiid-data/'\n",
    "file_train = 'train.csv'\n",
    "file_questions = 'questions.csv'\n",
    "file_lectures = 'lectures.csv'"
   ]
  },
  {
   "cell_type": "code",
   "execution_count": 3,
   "metadata": {},
   "outputs": [],
   "source": [
    "#nrows = 100 * 10000\n",
    "nrows = None\n",
    "train = pd.read_csv(\n",
    "                    dir_path + file_train, \n",
    "                    nrows=nrows, \n",
    "                    usecols=['row_id', 'timestamp', 'user_id', 'content_id', \n",
    "                             'content_type_id', 'task_container_id', 'answered_correctly',\n",
    "                            'prior_question_elapsed_time','prior_question_had_explanation'],\n",
    "                    dtype={\n",
    "                            'row_id': 'int64',\n",
    "                            'timestamp': 'int64',\n",
    "                            'user_id': 'int32',\n",
    "                            'content_id': 'int16',\n",
    "                            'content_type_id': 'int8',\n",
    "                            'task_container_id': 'int8',\n",
    "                            'answered_correctly': 'int8',\n",
    "                            'prior_question_elapsed_time': 'float32',\n",
    "                            'prior_question_had_explanation': 'str'\n",
    "                        }\n",
    "                   )"
   ]
  },
  {
   "cell_type": "code",
   "execution_count": 4,
   "metadata": {},
   "outputs": [],
   "source": [
    "questions = pd.read_csv(\n",
    "                        dir_path + file_questions, \n",
    "                        nrows=nrows,\n",
    "                        usecols=['question_id','bundle_id','part'], \n",
    "                        dtype={\n",
    "                           'question_id': 'int16',\n",
    "                           'bundle_id': 'int16',\n",
    "                           'part': 'int8',\n",
    "                       }\n",
    "                    )"
   ]
  },
  {
   "cell_type": "code",
   "execution_count": 5,
   "metadata": {},
   "outputs": [
    {
     "data": {
      "text/html": [
       "<div>\n",
       "<style scoped>\n",
       "    .dataframe tbody tr th:only-of-type {\n",
       "        vertical-align: middle;\n",
       "    }\n",
       "\n",
       "    .dataframe tbody tr th {\n",
       "        vertical-align: top;\n",
       "    }\n",
       "\n",
       "    .dataframe thead th {\n",
       "        text-align: right;\n",
       "    }\n",
       "</style>\n",
       "<table border=\"1\" class=\"dataframe\">\n",
       "  <thead>\n",
       "    <tr style=\"text-align: right;\">\n",
       "      <th></th>\n",
       "      <th>row_id</th>\n",
       "      <th>timestamp</th>\n",
       "      <th>user_id</th>\n",
       "      <th>content_id</th>\n",
       "      <th>content_type_id</th>\n",
       "      <th>task_container_id</th>\n",
       "      <th>answered_correctly</th>\n",
       "      <th>prior_question_elapsed_time</th>\n",
       "      <th>prior_question_had_explanation</th>\n",
       "    </tr>\n",
       "  </thead>\n",
       "  <tbody>\n",
       "    <tr>\n",
       "      <th>0</th>\n",
       "      <td>0</td>\n",
       "      <td>0</td>\n",
       "      <td>115</td>\n",
       "      <td>5692</td>\n",
       "      <td>0</td>\n",
       "      <td>1</td>\n",
       "      <td>1</td>\n",
       "      <td>NaN</td>\n",
       "      <td>NaN</td>\n",
       "    </tr>\n",
       "    <tr>\n",
       "      <th>1</th>\n",
       "      <td>1</td>\n",
       "      <td>56943</td>\n",
       "      <td>115</td>\n",
       "      <td>5716</td>\n",
       "      <td>0</td>\n",
       "      <td>2</td>\n",
       "      <td>1</td>\n",
       "      <td>37000.0</td>\n",
       "      <td>False</td>\n",
       "    </tr>\n",
       "    <tr>\n",
       "      <th>2</th>\n",
       "      <td>2</td>\n",
       "      <td>118363</td>\n",
       "      <td>115</td>\n",
       "      <td>128</td>\n",
       "      <td>0</td>\n",
       "      <td>0</td>\n",
       "      <td>1</td>\n",
       "      <td>55000.0</td>\n",
       "      <td>False</td>\n",
       "    </tr>\n",
       "    <tr>\n",
       "      <th>3</th>\n",
       "      <td>3</td>\n",
       "      <td>131167</td>\n",
       "      <td>115</td>\n",
       "      <td>7860</td>\n",
       "      <td>0</td>\n",
       "      <td>3</td>\n",
       "      <td>1</td>\n",
       "      <td>19000.0</td>\n",
       "      <td>False</td>\n",
       "    </tr>\n",
       "    <tr>\n",
       "      <th>4</th>\n",
       "      <td>4</td>\n",
       "      <td>137965</td>\n",
       "      <td>115</td>\n",
       "      <td>7922</td>\n",
       "      <td>0</td>\n",
       "      <td>4</td>\n",
       "      <td>1</td>\n",
       "      <td>11000.0</td>\n",
       "      <td>False</td>\n",
       "    </tr>\n",
       "    <tr>\n",
       "      <th>5</th>\n",
       "      <td>5</td>\n",
       "      <td>157063</td>\n",
       "      <td>115</td>\n",
       "      <td>156</td>\n",
       "      <td>0</td>\n",
       "      <td>5</td>\n",
       "      <td>1</td>\n",
       "      <td>5000.0</td>\n",
       "      <td>False</td>\n",
       "    </tr>\n",
       "    <tr>\n",
       "      <th>6</th>\n",
       "      <td>6</td>\n",
       "      <td>176092</td>\n",
       "      <td>115</td>\n",
       "      <td>51</td>\n",
       "      <td>0</td>\n",
       "      <td>6</td>\n",
       "      <td>1</td>\n",
       "      <td>17000.0</td>\n",
       "      <td>False</td>\n",
       "    </tr>\n",
       "    <tr>\n",
       "      <th>7</th>\n",
       "      <td>7</td>\n",
       "      <td>194190</td>\n",
       "      <td>115</td>\n",
       "      <td>50</td>\n",
       "      <td>0</td>\n",
       "      <td>7</td>\n",
       "      <td>1</td>\n",
       "      <td>17000.0</td>\n",
       "      <td>False</td>\n",
       "    </tr>\n",
       "    <tr>\n",
       "      <th>8</th>\n",
       "      <td>8</td>\n",
       "      <td>212463</td>\n",
       "      <td>115</td>\n",
       "      <td>7896</td>\n",
       "      <td>0</td>\n",
       "      <td>8</td>\n",
       "      <td>1</td>\n",
       "      <td>16000.0</td>\n",
       "      <td>False</td>\n",
       "    </tr>\n",
       "    <tr>\n",
       "      <th>9</th>\n",
       "      <td>9</td>\n",
       "      <td>230983</td>\n",
       "      <td>115</td>\n",
       "      <td>7863</td>\n",
       "      <td>0</td>\n",
       "      <td>9</td>\n",
       "      <td>1</td>\n",
       "      <td>16000.0</td>\n",
       "      <td>False</td>\n",
       "    </tr>\n",
       "  </tbody>\n",
       "</table>\n",
       "</div>"
      ],
      "text/plain": [
       "   row_id  timestamp  user_id  content_id  content_type_id  task_container_id  \\\n",
       "0       0          0      115        5692                0                  1   \n",
       "1       1      56943      115        5716                0                  2   \n",
       "2       2     118363      115         128                0                  0   \n",
       "3       3     131167      115        7860                0                  3   \n",
       "4       4     137965      115        7922                0                  4   \n",
       "5       5     157063      115         156                0                  5   \n",
       "6       6     176092      115          51                0                  6   \n",
       "7       7     194190      115          50                0                  7   \n",
       "8       8     212463      115        7896                0                  8   \n",
       "9       9     230983      115        7863                0                  9   \n",
       "\n",
       "   answered_correctly  prior_question_elapsed_time  \\\n",
       "0                   1                          NaN   \n",
       "1                   1                      37000.0   \n",
       "2                   1                      55000.0   \n",
       "3                   1                      19000.0   \n",
       "4                   1                      11000.0   \n",
       "5                   1                       5000.0   \n",
       "6                   1                      17000.0   \n",
       "7                   1                      17000.0   \n",
       "8                   1                      16000.0   \n",
       "9                   1                      16000.0   \n",
       "\n",
       "  prior_question_had_explanation  \n",
       "0                            NaN  \n",
       "1                          False  \n",
       "2                          False  \n",
       "3                          False  \n",
       "4                          False  \n",
       "5                          False  \n",
       "6                          False  \n",
       "7                          False  \n",
       "8                          False  \n",
       "9                          False  "
      ]
     },
     "execution_count": 5,
     "metadata": {},
     "output_type": "execute_result"
    }
   ],
   "source": [
    "train.head(10)"
   ]
  },
  {
   "cell_type": "markdown",
   "metadata": {},
   "source": [
    "模型没法识别文本类型 先处理下'prior_question_had_explanation'"
   ]
  },
  {
   "cell_type": "code",
   "execution_count": 6,
   "metadata": {},
   "outputs": [],
   "source": [
    "train['prior_question_had_explanation'] = train['prior_question_had_explanation'].map({'True':1,'False':0}).fillna(-1).astype(np.int8)\n",
    "#map 改为1，0 fillna为-1 设置类型 astype np.int8"
   ]
  },
  {
   "cell_type": "markdown",
   "metadata": {},
   "source": [
    "目的是回答准确率那听课的就不要了 （——之后自己处理时在讨论现在先不要了）"
   ]
  },
  {
   "cell_type": "code",
   "execution_count": 7,
   "metadata": {},
   "outputs": [],
   "source": [
    "train = train[train['content_type_id']==0]"
   ]
  },
  {
   "cell_type": "markdown",
   "metadata": {},
   "source": [
    "接下来看一下简单内存回收的问题 "
   ]
  },
  {
   "cell_type": "code",
   "execution_count": 8,
   "metadata": {},
   "outputs": [],
   "source": [
    "a = train.copy()#创建后内存增加 \n",
    "del a #删除了a但内存没释放"
   ]
  },
  {
   "cell_type": "code",
   "execution_count": 9,
   "metadata": {},
   "outputs": [
    {
     "data": {
      "text/plain": [
       "40"
      ]
     },
     "execution_count": 9,
     "metadata": {},
     "output_type": "execute_result"
    }
   ],
   "source": [
    "import gc\n",
    "gc.collect()"
   ]
  },
  {
   "cell_type": "markdown",
   "metadata": {},
   "source": [
    "压缩数据"
   ]
  },
  {
   "cell_type": "code",
   "execution_count": 10,
   "metadata": {},
   "outputs": [],
   "source": [
    "max_num = 100\n",
    "train['user_id'].value_counts().reset_index()\n",
    "train = train.groupby(['user_id']).tail(max_num)#取每个user最后100行的数据减小内存"
   ]
  },
  {
   "cell_type": "markdown",
   "metadata": {},
   "source": [
    "合并数据 \n",
    "需要用到pd.merge函数 很好的讲解:https://blog.csdn.net/weixin_37226516/article/details/64137043\n",
    "merge的参数\n",
    "on：列名，join用来对齐的那一列的名字，用到这个参数的时候一定要保证左表和右表用来对齐的那一列都有相同的列名。\n",
    "\n",
    "left_on：左表对齐的列，可以是列名，也可以是和dataframe同样长度的arrays。\n",
    "\n",
    "right_on：右表对齐的列，可以是列名，也可以是和dataframe同样长度的arrays。\n",
    "\n",
    "left_index/ right_index: 如果是True的haunted以index作为对齐的key\n",
    "\n",
    "how：数据融合的方法。 left 就是保留左表全部的数据 左有右面没有那合并后右面是nan，如果右面有左面没有那右面删除不要了\n",
    "\n",
    "sort：根据dataframe合并的keys按字典顺序排序，默认是，如果置false可以提高表现。"
   ]
  },
  {
   "cell_type": "code",
   "execution_count": 11,
   "metadata": {},
   "outputs": [],
   "source": [
    "train = pd.merge(left=train,\n",
    "                 right=questions,\n",
    "                 how='left',\n",
    "                 left_on='content_id',\n",
    "                 right_on='question_id'\n",
    "                 )#左面训练数据右问题数据，左面全保留 左侧的con——id和右侧的ques_id对应合并"
   ]
  },
  {
   "cell_type": "code",
   "execution_count": 12,
   "metadata": {},
   "outputs": [
    {
     "data": {
      "text/html": [
       "<div>\n",
       "<style scoped>\n",
       "    .dataframe tbody tr th:only-of-type {\n",
       "        vertical-align: middle;\n",
       "    }\n",
       "\n",
       "    .dataframe tbody tr th {\n",
       "        vertical-align: top;\n",
       "    }\n",
       "\n",
       "    .dataframe thead th {\n",
       "        text-align: right;\n",
       "    }\n",
       "</style>\n",
       "<table border=\"1\" class=\"dataframe\">\n",
       "  <thead>\n",
       "    <tr style=\"text-align: right;\">\n",
       "      <th></th>\n",
       "      <th>row_id</th>\n",
       "      <th>timestamp</th>\n",
       "      <th>user_id</th>\n",
       "      <th>content_id</th>\n",
       "      <th>content_type_id</th>\n",
       "      <th>task_container_id</th>\n",
       "      <th>answered_correctly</th>\n",
       "      <th>prior_question_elapsed_time</th>\n",
       "      <th>prior_question_had_explanation</th>\n",
       "      <th>question_id</th>\n",
       "      <th>bundle_id</th>\n",
       "      <th>part</th>\n",
       "    </tr>\n",
       "  </thead>\n",
       "  <tbody>\n",
       "    <tr>\n",
       "      <th>0</th>\n",
       "      <td>0</td>\n",
       "      <td>0</td>\n",
       "      <td>115</td>\n",
       "      <td>5692</td>\n",
       "      <td>0</td>\n",
       "      <td>1</td>\n",
       "      <td>1</td>\n",
       "      <td>NaN</td>\n",
       "      <td>-1</td>\n",
       "      <td>5692</td>\n",
       "      <td>5692</td>\n",
       "      <td>5</td>\n",
       "    </tr>\n",
       "    <tr>\n",
       "      <th>1</th>\n",
       "      <td>1</td>\n",
       "      <td>56943</td>\n",
       "      <td>115</td>\n",
       "      <td>5716</td>\n",
       "      <td>0</td>\n",
       "      <td>2</td>\n",
       "      <td>1</td>\n",
       "      <td>37000.0</td>\n",
       "      <td>0</td>\n",
       "      <td>5716</td>\n",
       "      <td>5716</td>\n",
       "      <td>5</td>\n",
       "    </tr>\n",
       "    <tr>\n",
       "      <th>2</th>\n",
       "      <td>2</td>\n",
       "      <td>118363</td>\n",
       "      <td>115</td>\n",
       "      <td>128</td>\n",
       "      <td>0</td>\n",
       "      <td>0</td>\n",
       "      <td>1</td>\n",
       "      <td>55000.0</td>\n",
       "      <td>0</td>\n",
       "      <td>128</td>\n",
       "      <td>128</td>\n",
       "      <td>1</td>\n",
       "    </tr>\n",
       "    <tr>\n",
       "      <th>3</th>\n",
       "      <td>3</td>\n",
       "      <td>131167</td>\n",
       "      <td>115</td>\n",
       "      <td>7860</td>\n",
       "      <td>0</td>\n",
       "      <td>3</td>\n",
       "      <td>1</td>\n",
       "      <td>19000.0</td>\n",
       "      <td>0</td>\n",
       "      <td>7860</td>\n",
       "      <td>7860</td>\n",
       "      <td>1</td>\n",
       "    </tr>\n",
       "    <tr>\n",
       "      <th>4</th>\n",
       "      <td>4</td>\n",
       "      <td>137965</td>\n",
       "      <td>115</td>\n",
       "      <td>7922</td>\n",
       "      <td>0</td>\n",
       "      <td>4</td>\n",
       "      <td>1</td>\n",
       "      <td>11000.0</td>\n",
       "      <td>0</td>\n",
       "      <td>7922</td>\n",
       "      <td>7922</td>\n",
       "      <td>1</td>\n",
       "    </tr>\n",
       "    <tr>\n",
       "      <th>5</th>\n",
       "      <td>5</td>\n",
       "      <td>157063</td>\n",
       "      <td>115</td>\n",
       "      <td>156</td>\n",
       "      <td>0</td>\n",
       "      <td>5</td>\n",
       "      <td>1</td>\n",
       "      <td>5000.0</td>\n",
       "      <td>0</td>\n",
       "      <td>156</td>\n",
       "      <td>156</td>\n",
       "      <td>1</td>\n",
       "    </tr>\n",
       "    <tr>\n",
       "      <th>6</th>\n",
       "      <td>6</td>\n",
       "      <td>176092</td>\n",
       "      <td>115</td>\n",
       "      <td>51</td>\n",
       "      <td>0</td>\n",
       "      <td>6</td>\n",
       "      <td>1</td>\n",
       "      <td>17000.0</td>\n",
       "      <td>0</td>\n",
       "      <td>51</td>\n",
       "      <td>51</td>\n",
       "      <td>1</td>\n",
       "    </tr>\n",
       "    <tr>\n",
       "      <th>7</th>\n",
       "      <td>7</td>\n",
       "      <td>194190</td>\n",
       "      <td>115</td>\n",
       "      <td>50</td>\n",
       "      <td>0</td>\n",
       "      <td>7</td>\n",
       "      <td>1</td>\n",
       "      <td>17000.0</td>\n",
       "      <td>0</td>\n",
       "      <td>50</td>\n",
       "      <td>50</td>\n",
       "      <td>1</td>\n",
       "    </tr>\n",
       "    <tr>\n",
       "      <th>8</th>\n",
       "      <td>8</td>\n",
       "      <td>212463</td>\n",
       "      <td>115</td>\n",
       "      <td>7896</td>\n",
       "      <td>0</td>\n",
       "      <td>8</td>\n",
       "      <td>1</td>\n",
       "      <td>16000.0</td>\n",
       "      <td>0</td>\n",
       "      <td>7896</td>\n",
       "      <td>7896</td>\n",
       "      <td>1</td>\n",
       "    </tr>\n",
       "    <tr>\n",
       "      <th>9</th>\n",
       "      <td>9</td>\n",
       "      <td>230983</td>\n",
       "      <td>115</td>\n",
       "      <td>7863</td>\n",
       "      <td>0</td>\n",
       "      <td>9</td>\n",
       "      <td>1</td>\n",
       "      <td>16000.0</td>\n",
       "      <td>0</td>\n",
       "      <td>7863</td>\n",
       "      <td>7863</td>\n",
       "      <td>1</td>\n",
       "    </tr>\n",
       "  </tbody>\n",
       "</table>\n",
       "</div>"
      ],
      "text/plain": [
       "   row_id  timestamp  user_id  content_id  content_type_id  task_container_id  \\\n",
       "0       0          0      115        5692                0                  1   \n",
       "1       1      56943      115        5716                0                  2   \n",
       "2       2     118363      115         128                0                  0   \n",
       "3       3     131167      115        7860                0                  3   \n",
       "4       4     137965      115        7922                0                  4   \n",
       "5       5     157063      115         156                0                  5   \n",
       "6       6     176092      115          51                0                  6   \n",
       "7       7     194190      115          50                0                  7   \n",
       "8       8     212463      115        7896                0                  8   \n",
       "9       9     230983      115        7863                0                  9   \n",
       "\n",
       "   answered_correctly  prior_question_elapsed_time  \\\n",
       "0                   1                          NaN   \n",
       "1                   1                      37000.0   \n",
       "2                   1                      55000.0   \n",
       "3                   1                      19000.0   \n",
       "4                   1                      11000.0   \n",
       "5                   1                       5000.0   \n",
       "6                   1                      17000.0   \n",
       "7                   1                      17000.0   \n",
       "8                   1                      16000.0   \n",
       "9                   1                      16000.0   \n",
       "\n",
       "   prior_question_had_explanation  question_id  bundle_id  part  \n",
       "0                              -1         5692       5692     5  \n",
       "1                               0         5716       5716     5  \n",
       "2                               0          128        128     1  \n",
       "3                               0         7860       7860     1  \n",
       "4                               0         7922       7922     1  \n",
       "5                               0          156        156     1  \n",
       "6                               0           51         51     1  \n",
       "7                               0           50         50     1  \n",
       "8                               0         7896       7896     1  \n",
       "9                               0         7863       7863     1  "
      ]
     },
     "execution_count": 12,
     "metadata": {},
     "output_type": "execute_result"
    }
   ],
   "source": [
    "train.head(10)"
   ]
  },
  {
   "cell_type": "code",
   "execution_count": 13,
   "metadata": {},
   "outputs": [],
   "source": [
    "train = train.fillna(0)"
   ]
  },
  {
   "cell_type": "markdown",
   "metadata": {},
   "source": [
    "处理类别特征 首先需要对特征进行编码 nan是0了编码从1开始 one hot太稀疏费内存类别多的话\n",
    "若某一列[‘男’,'女','男','男','中'] -->先fit -->{‘男’：1，‘女’：2，‘中’:3}得到这么一个字典\n",
    "-->tranform--> [1,2,1,1,3]"
   ]
  },
  {
   "cell_type": "code",
   "execution_count": 14,
   "metadata": {},
   "outputs": [],
   "source": [
    "class cat_deal:\n",
    "    def __init__(self):\n",
    "        self.max_len = 0#不同个数 0是nan嘛所以从1开始算\n",
    "        self.dict_map = {}\n",
    "    \n",
    "    def fit(self,cat_list):\n",
    "        index = 1\n",
    "        for cat_i in cat_list:\n",
    "            if cat_i not in self.dict_map:\n",
    "                self.dict_map[cat_i]  = index\n",
    "                index += 1\n",
    "        self.max_len = index + 1#保险一点怕有异常值\n",
    "    \n",
    "    def transform (self,cat_list):\n",
    "        cat_transform_list = []\n",
    "        for cat_i in cat_list:\n",
    "            if cat_i in self.dict_map:\n",
    "                cat_transform_list.append(self.dict_map[cat_i])\n",
    "            else:\n",
    "                cat_transform_list.append(0)\n",
    "        return cat_transform_list"
   ]
  },
  {
   "cell_type": "markdown",
   "metadata": {},
   "source": [
    "处理浮点特征 用最大最小值做一个归一化"
   ]
  },
  {
   "cell_type": "code",
   "execution_count": 15,
   "metadata": {},
   "outputs": [],
   "source": [
    "class float_deal:\n",
    "    def __init__(self):\n",
    "        self.min = 0\n",
    "        self.max = 0\n",
    "        self.max_min = 0\n",
    "    \n",
    "    def fit(self,float_list):\n",
    "        for float_i in float_list:\n",
    "            if float_i < self.min:\n",
    "                self.min = float_i\n",
    "            if float_i > self.max:\n",
    "                self.max = float_i\n",
    "        self.max_min = self.max - self.min\n",
    "    \n",
    "    def transform(self,float_list):\n",
    "        float_transform_list = []\n",
    "        for float_i in float_list:\n",
    "            if float_i < self.min:\n",
    "                float_transform_list.append(0)\n",
    "            elif float_i > self.max:\n",
    "                float_transform_list.append(1)\n",
    "            else:\n",
    "                float_transform_list.append(float_i/self.max_min)\n",
    "        return float_transform_list"
   ]
  },
  {
   "cell_type": "markdown",
   "metadata": {},
   "source": [
    "处理类别特征数据"
   ]
  },
  {
   "cell_type": "code",
   "execution_count": 16,
   "metadata": {},
   "outputs": [
    {
     "data": {
      "text/html": [
       "<div>\n",
       "<style scoped>\n",
       "    .dataframe tbody tr th:only-of-type {\n",
       "        vertical-align: middle;\n",
       "    }\n",
       "\n",
       "    .dataframe tbody tr th {\n",
       "        vertical-align: top;\n",
       "    }\n",
       "\n",
       "    .dataframe thead th {\n",
       "        text-align: right;\n",
       "    }\n",
       "</style>\n",
       "<table border=\"1\" class=\"dataframe\">\n",
       "  <thead>\n",
       "    <tr style=\"text-align: right;\">\n",
       "      <th></th>\n",
       "      <th>row_id</th>\n",
       "      <th>timestamp</th>\n",
       "      <th>user_id</th>\n",
       "      <th>content_id</th>\n",
       "      <th>content_type_id</th>\n",
       "      <th>task_container_id</th>\n",
       "      <th>answered_correctly</th>\n",
       "      <th>prior_question_elapsed_time</th>\n",
       "      <th>prior_question_had_explanation</th>\n",
       "      <th>question_id</th>\n",
       "      <th>bundle_id</th>\n",
       "      <th>part</th>\n",
       "    </tr>\n",
       "  </thead>\n",
       "  <tbody>\n",
       "    <tr>\n",
       "      <th>0</th>\n",
       "      <td>0</td>\n",
       "      <td>0</td>\n",
       "      <td>115</td>\n",
       "      <td>5692</td>\n",
       "      <td>0</td>\n",
       "      <td>1</td>\n",
       "      <td>1</td>\n",
       "      <td>0.0</td>\n",
       "      <td>-1</td>\n",
       "      <td>5692</td>\n",
       "      <td>5692</td>\n",
       "      <td>5</td>\n",
       "    </tr>\n",
       "    <tr>\n",
       "      <th>1</th>\n",
       "      <td>1</td>\n",
       "      <td>56943</td>\n",
       "      <td>115</td>\n",
       "      <td>5716</td>\n",
       "      <td>0</td>\n",
       "      <td>2</td>\n",
       "      <td>1</td>\n",
       "      <td>37000.0</td>\n",
       "      <td>0</td>\n",
       "      <td>5716</td>\n",
       "      <td>5716</td>\n",
       "      <td>5</td>\n",
       "    </tr>\n",
       "    <tr>\n",
       "      <th>2</th>\n",
       "      <td>2</td>\n",
       "      <td>118363</td>\n",
       "      <td>115</td>\n",
       "      <td>128</td>\n",
       "      <td>0</td>\n",
       "      <td>0</td>\n",
       "      <td>1</td>\n",
       "      <td>55000.0</td>\n",
       "      <td>0</td>\n",
       "      <td>128</td>\n",
       "      <td>128</td>\n",
       "      <td>1</td>\n",
       "    </tr>\n",
       "    <tr>\n",
       "      <th>3</th>\n",
       "      <td>3</td>\n",
       "      <td>131167</td>\n",
       "      <td>115</td>\n",
       "      <td>7860</td>\n",
       "      <td>0</td>\n",
       "      <td>3</td>\n",
       "      <td>1</td>\n",
       "      <td>19000.0</td>\n",
       "      <td>0</td>\n",
       "      <td>7860</td>\n",
       "      <td>7860</td>\n",
       "      <td>1</td>\n",
       "    </tr>\n",
       "    <tr>\n",
       "      <th>4</th>\n",
       "      <td>4</td>\n",
       "      <td>137965</td>\n",
       "      <td>115</td>\n",
       "      <td>7922</td>\n",
       "      <td>0</td>\n",
       "      <td>4</td>\n",
       "      <td>1</td>\n",
       "      <td>11000.0</td>\n",
       "      <td>0</td>\n",
       "      <td>7922</td>\n",
       "      <td>7922</td>\n",
       "      <td>1</td>\n",
       "    </tr>\n",
       "    <tr>\n",
       "      <th>5</th>\n",
       "      <td>5</td>\n",
       "      <td>157063</td>\n",
       "      <td>115</td>\n",
       "      <td>156</td>\n",
       "      <td>0</td>\n",
       "      <td>5</td>\n",
       "      <td>1</td>\n",
       "      <td>5000.0</td>\n",
       "      <td>0</td>\n",
       "      <td>156</td>\n",
       "      <td>156</td>\n",
       "      <td>1</td>\n",
       "    </tr>\n",
       "    <tr>\n",
       "      <th>6</th>\n",
       "      <td>6</td>\n",
       "      <td>176092</td>\n",
       "      <td>115</td>\n",
       "      <td>51</td>\n",
       "      <td>0</td>\n",
       "      <td>6</td>\n",
       "      <td>1</td>\n",
       "      <td>17000.0</td>\n",
       "      <td>0</td>\n",
       "      <td>51</td>\n",
       "      <td>51</td>\n",
       "      <td>1</td>\n",
       "    </tr>\n",
       "    <tr>\n",
       "      <th>7</th>\n",
       "      <td>7</td>\n",
       "      <td>194190</td>\n",
       "      <td>115</td>\n",
       "      <td>50</td>\n",
       "      <td>0</td>\n",
       "      <td>7</td>\n",
       "      <td>1</td>\n",
       "      <td>17000.0</td>\n",
       "      <td>0</td>\n",
       "      <td>50</td>\n",
       "      <td>50</td>\n",
       "      <td>1</td>\n",
       "    </tr>\n",
       "    <tr>\n",
       "      <th>8</th>\n",
       "      <td>8</td>\n",
       "      <td>212463</td>\n",
       "      <td>115</td>\n",
       "      <td>7896</td>\n",
       "      <td>0</td>\n",
       "      <td>8</td>\n",
       "      <td>1</td>\n",
       "      <td>16000.0</td>\n",
       "      <td>0</td>\n",
       "      <td>7896</td>\n",
       "      <td>7896</td>\n",
       "      <td>1</td>\n",
       "    </tr>\n",
       "    <tr>\n",
       "      <th>9</th>\n",
       "      <td>9</td>\n",
       "      <td>230983</td>\n",
       "      <td>115</td>\n",
       "      <td>7863</td>\n",
       "      <td>0</td>\n",
       "      <td>9</td>\n",
       "      <td>1</td>\n",
       "      <td>16000.0</td>\n",
       "      <td>0</td>\n",
       "      <td>7863</td>\n",
       "      <td>7863</td>\n",
       "      <td>1</td>\n",
       "    </tr>\n",
       "  </tbody>\n",
       "</table>\n",
       "</div>"
      ],
      "text/plain": [
       "   row_id  timestamp  user_id  content_id  content_type_id  task_container_id  \\\n",
       "0       0          0      115        5692                0                  1   \n",
       "1       1      56943      115        5716                0                  2   \n",
       "2       2     118363      115         128                0                  0   \n",
       "3       3     131167      115        7860                0                  3   \n",
       "4       4     137965      115        7922                0                  4   \n",
       "5       5     157063      115         156                0                  5   \n",
       "6       6     176092      115          51                0                  6   \n",
       "7       7     194190      115          50                0                  7   \n",
       "8       8     212463      115        7896                0                  8   \n",
       "9       9     230983      115        7863                0                  9   \n",
       "\n",
       "   answered_correctly  prior_question_elapsed_time  \\\n",
       "0                   1                          0.0   \n",
       "1                   1                      37000.0   \n",
       "2                   1                      55000.0   \n",
       "3                   1                      19000.0   \n",
       "4                   1                      11000.0   \n",
       "5                   1                       5000.0   \n",
       "6                   1                      17000.0   \n",
       "7                   1                      17000.0   \n",
       "8                   1                      16000.0   \n",
       "9                   1                      16000.0   \n",
       "\n",
       "   prior_question_had_explanation  question_id  bundle_id  part  \n",
       "0                              -1         5692       5692     5  \n",
       "1                               0         5716       5716     5  \n",
       "2                               0          128        128     1  \n",
       "3                               0         7860       7860     1  \n",
       "4                               0         7922       7922     1  \n",
       "5                               0          156        156     1  \n",
       "6                               0           51         51     1  \n",
       "7                               0           50         50     1  \n",
       "8                               0         7896       7896     1  \n",
       "9                               0         7863       7863     1  "
      ]
     },
     "execution_count": 16,
     "metadata": {},
     "output_type": "execute_result"
    }
   ],
   "source": [
    "train.head(10)#处理前"
   ]
  },
  {
   "cell_type": "code",
   "execution_count": 17,
   "metadata": {},
   "outputs": [
    {
     "name": "stdout",
     "output_type": "stream",
     "text": [
      "user_id\n",
      "content_id\n",
      "task_container_id\n",
      "prior_question_had_explanation\n",
      "bundle_id\n",
      "part\n"
     ]
    }
   ],
   "source": [
    "dict_cat_class = {}\n",
    "for columns in ['user_id','content_id',\\\n",
    "                'task_container_id','prior_question_had_explanation',\\\n",
    "                'bundle_id','part']:\n",
    "    dict_cat_class[columns] = cat_deal()\n",
    "    dict_cat_class[columns].fit(train[columns])\n",
    "    \n",
    "    train[columns] = dict_cat_class[columns].transform(train[columns])\n",
    "    print(columns)"
   ]
  },
  {
   "cell_type": "code",
   "execution_count": 18,
   "metadata": {},
   "outputs": [
    {
     "name": "stdout",
     "output_type": "stream",
     "text": [
      "{5: 1, 1: 2, 2: 3, 3: 4, 4: 5, 6: 6, 7: 7}\n",
      "9\n"
     ]
    }
   ],
   "source": [
    "print(dict_cat_class['part'].dict_map)\n",
    "print(dict_cat_class['part'].max_len)"
   ]
  },
  {
   "cell_type": "markdown",
   "metadata": {},
   "source": [
    "浮点特征处理"
   ]
  },
  {
   "cell_type": "code",
   "execution_count": 19,
   "metadata": {},
   "outputs": [
    {
     "name": "stdout",
     "output_type": "stream",
     "text": [
      "timestamp\n",
      "prior_question_elapsed_time\n"
     ]
    }
   ],
   "source": [
    "dict_float_class = {}\n",
    "for columns in ['timestamp','prior_question_elapsed_time']:\n",
    "    dict_float_class[columns] = float_deal()\n",
    "    dict_float_class[columns].fit(train[columns])\n",
    "    \n",
    "    train[columns] = dict_float_class[columns].transform(train[columns])\n",
    "    print(columns)"
   ]
  },
  {
   "cell_type": "code",
   "execution_count": 20,
   "metadata": {},
   "outputs": [
    {
     "data": {
      "text/plain": [
       "300000.0"
      ]
     },
     "execution_count": 20,
     "metadata": {},
     "output_type": "execute_result"
    }
   ],
   "source": [
    "dict_float_class['prior_question_elapsed_time'].max"
   ]
  },
  {
   "cell_type": "code",
   "execution_count": 21,
   "metadata": {},
   "outputs": [
    {
     "data": {
      "text/plain": [
       "0"
      ]
     },
     "execution_count": 21,
     "metadata": {},
     "output_type": "execute_result"
    }
   ],
   "source": [
    "dict_float_class['prior_question_elapsed_time'].min"
   ]
  },
  {
   "cell_type": "code",
   "execution_count": 22,
   "metadata": {},
   "outputs": [
    {
     "data": {
      "text/plain": [
       "<AxesSubplot:>"
      ]
     },
     "execution_count": 22,
     "metadata": {},
     "output_type": "execute_result"
    },
    {
     "data": {
      "image/png": "[encoded data removed]",
      "text/plain": [
       "<Figure size 432x288 with 1 Axes>"
      ]
     },
     "metadata": {
      "needs_background": "light"
     },
     "output_type": "display_data"
    }
   ],
   "source": [
    "train['prior_question_elapsed_time'].hist(bins = 500)#看下分布 这样归一化样本分布部太平均的 0算是异常值吗这个要自己判断"
   ]
  },
  {
   "cell_type": "code",
   "execution_count": 23,
   "metadata": {},
   "outputs": [
    {
     "data": {
      "text/html": [
       "<div>\n",
       "<style scoped>\n",
       "    .dataframe tbody tr th:only-of-type {\n",
       "        vertical-align: middle;\n",
       "    }\n",
       "\n",
       "    .dataframe tbody tr th {\n",
       "        vertical-align: top;\n",
       "    }\n",
       "\n",
       "    .dataframe thead th {\n",
       "        text-align: right;\n",
       "    }\n",
       "</style>\n",
       "<table border=\"1\" class=\"dataframe\">\n",
       "  <thead>\n",
       "    <tr style=\"text-align: right;\">\n",
       "      <th></th>\n",
       "      <th>row_id</th>\n",
       "      <th>timestamp</th>\n",
       "      <th>user_id</th>\n",
       "      <th>content_id</th>\n",
       "      <th>content_type_id</th>\n",
       "      <th>task_container_id</th>\n",
       "      <th>answered_correctly</th>\n",
       "      <th>prior_question_elapsed_time</th>\n",
       "      <th>prior_question_had_explanation</th>\n",
       "      <th>question_id</th>\n",
       "      <th>bundle_id</th>\n",
       "      <th>part</th>\n",
       "    </tr>\n",
       "  </thead>\n",
       "  <tbody>\n",
       "    <tr>\n",
       "      <th>0</th>\n",
       "      <td>0</td>\n",
       "      <td>0.000000e+00</td>\n",
       "      <td>1</td>\n",
       "      <td>1</td>\n",
       "      <td>0</td>\n",
       "      <td>1</td>\n",
       "      <td>1</td>\n",
       "      <td>0.000000</td>\n",
       "      <td>1</td>\n",
       "      <td>5692</td>\n",
       "      <td>1</td>\n",
       "      <td>1</td>\n",
       "    </tr>\n",
       "    <tr>\n",
       "      <th>1</th>\n",
       "      <td>1</td>\n",
       "      <td>6.513297e-07</td>\n",
       "      <td>1</td>\n",
       "      <td>2</td>\n",
       "      <td>0</td>\n",
       "      <td>2</td>\n",
       "      <td>1</td>\n",
       "      <td>0.123333</td>\n",
       "      <td>2</td>\n",
       "      <td>5716</td>\n",
       "      <td>2</td>\n",
       "      <td>1</td>\n",
       "    </tr>\n",
       "    <tr>\n",
       "      <th>2</th>\n",
       "      <td>2</td>\n",
       "      <td>1.353869e-06</td>\n",
       "      <td>1</td>\n",
       "      <td>3</td>\n",
       "      <td>0</td>\n",
       "      <td>3</td>\n",
       "      <td>1</td>\n",
       "      <td>0.183333</td>\n",
       "      <td>2</td>\n",
       "      <td>128</td>\n",
       "      <td>3</td>\n",
       "      <td>2</td>\n",
       "    </tr>\n",
       "    <tr>\n",
       "      <th>3</th>\n",
       "      <td>3</td>\n",
       "      <td>1.500324e-06</td>\n",
       "      <td>1</td>\n",
       "      <td>4</td>\n",
       "      <td>0</td>\n",
       "      <td>4</td>\n",
       "      <td>1</td>\n",
       "      <td>0.063333</td>\n",
       "      <td>2</td>\n",
       "      <td>7860</td>\n",
       "      <td>4</td>\n",
       "      <td>2</td>\n",
       "    </tr>\n",
       "    <tr>\n",
       "      <th>4</th>\n",
       "      <td>4</td>\n",
       "      <td>1.578082e-06</td>\n",
       "      <td>1</td>\n",
       "      <td>5</td>\n",
       "      <td>0</td>\n",
       "      <td>5</td>\n",
       "      <td>1</td>\n",
       "      <td>0.036667</td>\n",
       "      <td>2</td>\n",
       "      <td>7922</td>\n",
       "      <td>5</td>\n",
       "      <td>2</td>\n",
       "    </tr>\n",
       "    <tr>\n",
       "      <th>5</th>\n",
       "      <td>5</td>\n",
       "      <td>1.796530e-06</td>\n",
       "      <td>1</td>\n",
       "      <td>6</td>\n",
       "      <td>0</td>\n",
       "      <td>6</td>\n",
       "      <td>1</td>\n",
       "      <td>0.016667</td>\n",
       "      <td>2</td>\n",
       "      <td>156</td>\n",
       "      <td>6</td>\n",
       "      <td>2</td>\n",
       "    </tr>\n",
       "    <tr>\n",
       "      <th>6</th>\n",
       "      <td>6</td>\n",
       "      <td>2.014189e-06</td>\n",
       "      <td>1</td>\n",
       "      <td>7</td>\n",
       "      <td>0</td>\n",
       "      <td>7</td>\n",
       "      <td>1</td>\n",
       "      <td>0.056667</td>\n",
       "      <td>2</td>\n",
       "      <td>51</td>\n",
       "      <td>7</td>\n",
       "      <td>2</td>\n",
       "    </tr>\n",
       "    <tr>\n",
       "      <th>7</th>\n",
       "      <td>7</td>\n",
       "      <td>2.221199e-06</td>\n",
       "      <td>1</td>\n",
       "      <td>8</td>\n",
       "      <td>0</td>\n",
       "      <td>8</td>\n",
       "      <td>1</td>\n",
       "      <td>0.056667</td>\n",
       "      <td>2</td>\n",
       "      <td>50</td>\n",
       "      <td>8</td>\n",
       "      <td>2</td>\n",
       "    </tr>\n",
       "    <tr>\n",
       "      <th>8</th>\n",
       "      <td>8</td>\n",
       "      <td>2.430210e-06</td>\n",
       "      <td>1</td>\n",
       "      <td>9</td>\n",
       "      <td>0</td>\n",
       "      <td>9</td>\n",
       "      <td>1</td>\n",
       "      <td>0.053333</td>\n",
       "      <td>2</td>\n",
       "      <td>7896</td>\n",
       "      <td>9</td>\n",
       "      <td>2</td>\n",
       "    </tr>\n",
       "    <tr>\n",
       "      <th>9</th>\n",
       "      <td>9</td>\n",
       "      <td>2.642047e-06</td>\n",
       "      <td>1</td>\n",
       "      <td>10</td>\n",
       "      <td>0</td>\n",
       "      <td>10</td>\n",
       "      <td>1</td>\n",
       "      <td>0.053333</td>\n",
       "      <td>2</td>\n",
       "      <td>7863</td>\n",
       "      <td>10</td>\n",
       "      <td>2</td>\n",
       "    </tr>\n",
       "  </tbody>\n",
       "</table>\n",
       "</div>"
      ],
      "text/plain": [
       "   row_id     timestamp  user_id  content_id  content_type_id  \\\n",
       "0       0  0.000000e+00        1           1                0   \n",
       "1       1  6.513297e-07        1           2                0   \n",
       "2       2  1.353869e-06        1           3                0   \n",
       "3       3  1.500324e-06        1           4                0   \n",
       "4       4  1.578082e-06        1           5                0   \n",
       "5       5  1.796530e-06        1           6                0   \n",
       "6       6  2.014189e-06        1           7                0   \n",
       "7       7  2.221199e-06        1           8                0   \n",
       "8       8  2.430210e-06        1           9                0   \n",
       "9       9  2.642047e-06        1          10                0   \n",
       "\n",
       "   task_container_id  answered_correctly  prior_question_elapsed_time  \\\n",
       "0                  1                   1                     0.000000   \n",
       "1                  2                   1                     0.123333   \n",
       "2                  3                   1                     0.183333   \n",
       "3                  4                   1                     0.063333   \n",
       "4                  5                   1                     0.036667   \n",
       "5                  6                   1                     0.016667   \n",
       "6                  7                   1                     0.056667   \n",
       "7                  8                   1                     0.056667   \n",
       "8                  9                   1                     0.053333   \n",
       "9                 10                   1                     0.053333   \n",
       "\n",
       "   prior_question_had_explanation  question_id  bundle_id  part  \n",
       "0                               1         5692          1     1  \n",
       "1                               2         5716          2     1  \n",
       "2                               2          128          3     2  \n",
       "3                               2         7860          4     2  \n",
       "4                               2         7922          5     2  \n",
       "5                               2          156          6     2  \n",
       "6                               2           51          7     2  \n",
       "7                               2           50          8     2  \n",
       "8                               2         7896          9     2  \n",
       "9                               2         7863         10     2  "
      ]
     },
     "execution_count": 23,
     "metadata": {},
     "output_type": "execute_result"
    }
   ],
   "source": [
    "train.head(10)#处理后 其实这样做破坏了原有数据之间存在的大小关系，这也是优点之一全变成index小 编码就小了跟其他的数据没关系了"
   ]
  },
  {
   "cell_type": "code",
   "execution_count": 24,
   "metadata": {},
   "outputs": [],
   "source": [
    "# train['prior_question_elapsed_time_0'] = train['prior_question_elapsed_time'].map(lambda x: 1 if x==0 else 0)\n",
    "#可以新开一列来处理异常值 单拿出来也行 去除也行 "
   ]
  },
  {
   "cell_type": "markdown",
   "metadata": {},
   "source": [
    "包装一些可能用到的函数 包装成lambda\n",
    " 't' is a tensor of shape [1, 2, 1, 3, 1, 1]\n",
    "  tf.shape(tf.squeeze(t, [2, 4]))  # [1, 2, 3, 1]"
   ]
  },
  {
   "cell_type": "code",
   "execution_count": 25,
   "metadata": {},
   "outputs": [],
   "source": [
    "def squeeze(embedding):#删除为1的维\n",
    "    embedding = tf.squeeze(embedding,axis=1)\n",
    "    return embedding\n",
    "def concat(embedding_list):#沿第一维拼接张量\n",
    "    embedding = tf.concat(embedding_list, axis=1)\n",
    "    return embedding\n",
    "def multiply(multi_x_y):#对应元素相乘\n",
    "    multi_x = multi_x_y[0]\n",
    "    multi_y = multi_x_y[1]\n",
    "    multi_x_y = tf.multiply(multi_x, multi_y)\n",
    "    return multi_x_y"
   ]
  },
  {
   "cell_type": "markdown",
   "metadata": {},
   "source": [
    "数据输入 全做成tenser 一会要把每个特征都分别embedding到向量 所以分开写"
   ]
  },
  {
   "cell_type": "code",
   "execution_count": 26,
   "metadata": {},
   "outputs": [],
   "source": [
    "input_timestamp = tf.keras.Input(shape=(1,))\n",
    "input_prior_question_elapsed_time = tf.keras.Input(shape=(1,))\n",
    "\n",
    "input_user = tf.keras.Input(shape=(1,))\n",
    "input_content = tf.keras.Input(shape=(1,))\n",
    "input_task_container = tf.keras.Input(shape=(1,))\n",
    "input_prior_question_had_explanation = tf.keras.Input(shape=(1,))\n",
    "input_bundle = tf.keras.Input(shape=(1,))\n",
    "input_part = tf.keras.Input(shape=(1,))"
   ]
  },
  {
   "cell_type": "code",
   "execution_count": 27,
   "metadata": {},
   "outputs": [],
   "source": [
    "inputs = [input_timestamp,input_prior_question_elapsed_time,\\\n",
    "         input_user,input_content,\\\n",
    "         input_task_container,input_prior_question_had_explanation,\\\n",
    "         input_bundle,input_part]"
   ]
  },
  {
   "cell_type": "markdown",
   "metadata": {},
   "source": [
    "类别特征embeeding转换¶"
   ]
  },
  {
   "cell_type": "code",
   "execution_count": 28,
   "metadata": {},
   "outputs": [],
   "source": [
    "#layers.Embedding?\n",
    "# #layers.Embedding(\n",
    "#     input_dim,\n",
    "#     output_dim,\n",
    "#     embeddings_initializer='uniform',\n",
    "#     embeddings_regularizer=None,\n",
    "#     activity_regularizer=None,\n",
    "#     embeddings_constraint=None,\n",
    "#     mask_zero=False,\n",
    "#     input_length=None,\n",
    "#     **kwargs,\n",
    "#input_length: 输入序列的长度，当它是固定的时。 如果你需要连接 Flatten 和 Dense 层，则这个参数是必须的 （没有它，dense 层的输出尺寸就无法计算）。"
   ]
  },
  {
   "cell_type": "code",
   "execution_count": 29,
   "metadata": {},
   "outputs": [
    {
     "name": "stdout",
     "output_type": "stream",
     "text": [
      "squeeze 前: (None, 1, 1)\n",
      "squeeze 后: (None, 1)\n"
     ]
    }
   ],
   "source": [
    "embedding_user = tf.keras.layers.Embedding(dict_cat_class['user_id'].max_len,\n",
    "                                           1, input_length=1)(input_user)\n",
    "print(\"squeeze 前:\",embedding_user.shape)\n",
    "embedding_user = tf.keras.layers.Lambda(squeeze)(embedding_user)\n",
    "print(\"squeeze 后:\",embedding_user.shape)\n",
    "#全部特征都做成1维稠密向量\n",
    "#tf.keras.layers.Lambda 将任意表达式封装为 Layer 对象。\n",
    "#再去掉多余维\n",
    "\n",
    "\n",
    "embedding_content = tf.keras.layers.Embedding(dict_cat_class['content_id'].max_len,\n",
    "                                              5, input_length=1)(input_content)\n",
    "embedding_content = tf.keras.layers.Lambda(squeeze)(embedding_content)\n",
    "\n",
    "embedding_task_container = tf.keras.layers.Embedding(dict_cat_class['task_container_id'].max_len,\n",
    "                                                     5, input_length=1)(input_task_container)\n",
    "embedding_task_container = tf.keras.layers.Lambda(squeeze)(embedding_task_container)\n",
    "\n",
    "embedding_prior_question_had_explanation = tf.keras.layers.Embedding(dict_cat_class['prior_question_had_explanation'].max_len, \n",
    "                                                                     5, input_length=1)(input_prior_question_had_explanation)\n",
    "embedding_prior_question_had_explanation = tf.keras.layers.Lambda(squeeze)(embedding_prior_question_had_explanation)\n",
    "\n",
    "embedding_bundle = tf.keras.layers.Embedding(dict_cat_class['bundle_id'].max_len,\n",
    "                                             5, input_length=1)(input_bundle)\n",
    "embedding_bundle = tf.keras.layers.Lambda(squeeze)(embedding_bundle)\n",
    "\n",
    "embedding_part = tf.keras.layers.Embedding(dict_cat_class['part'].max_len,\n",
    "                                           5, input_length=1)(input_part)\n",
    "embedding_part = tf.keras.layers.Lambda(squeeze)(embedding_part)"
   ]
  },
  {
   "cell_type": "markdown",
   "metadata": {},
   "source": [
    "合并类别特征对应的embeeding特征和浮点特征"
   ]
  },
  {
   "cell_type": "code",
   "execution_count": 30,
   "metadata": {},
   "outputs": [],
   "source": [
    "embedding_all = [input_timestamp,input_prior_question_elapsed_time,\\\n",
    "                embedding_user, embedding_content, embedding_task_container,\\\n",
    "                embedding_prior_question_had_explanation, embedding_bundle, embedding_part]\n",
    "\n",
    "lr_all = embedding_all + [input_timestamp,input_prior_question_elapsed_time]"
   ]
  },
  {
   "cell_type": "code",
   "execution_count": 31,
   "metadata": {},
   "outputs": [
    {
     "data": {
      "text/plain": [
       "[<tf.Tensor 'input_1:0' shape=(None, 1) dtype=float32>,\n",
       " <tf.Tensor 'input_2:0' shape=(None, 1) dtype=float32>,\n",
       " <tf.Tensor 'lambda/Identity:0' shape=(None, 1) dtype=float32>,\n",
       " <tf.Tensor 'lambda_1/Identity:0' shape=(None, 5) dtype=float32>,\n",
       " <tf.Tensor 'lambda_2/Identity:0' shape=(None, 5) dtype=float32>,\n",
       " <tf.Tensor 'lambda_3/Identity:0' shape=(None, 5) dtype=float32>,\n",
       " <tf.Tensor 'lambda_4/Identity:0' shape=(None, 5) dtype=float32>,\n",
       " <tf.Tensor 'lambda_5/Identity:0' shape=(None, 5) dtype=float32>,\n",
       " <tf.Tensor 'input_1:0' shape=(None, 1) dtype=float32>,\n",
       " <tf.Tensor 'input_2:0' shape=(None, 1) dtype=float32>]"
      ]
     },
     "execution_count": 31,
     "metadata": {},
     "output_type": "execute_result"
    }
   ],
   "source": [
    "lr_all#发现是很多个1维 需要把第一个维度上拼接一下"
   ]
  },
  {
   "cell_type": "code",
   "execution_count": 32,
   "metadata": {},
   "outputs": [
    {
     "data": {
      "text/plain": [
       "<tf.Tensor 'lambda_6/Identity:0' shape=(None, 30) dtype=float32>"
      ]
     },
     "execution_count": 32,
     "metadata": {},
     "output_type": "execute_result"
    }
   ],
   "source": [
    "lr_layer = layers.Lambda(concat)(lr_all)\n",
    "lr_layer#可看出在第一维度上拼接在一起了"
   ]
  },
  {
   "cell_type": "code",
   "execution_count": 33,
   "metadata": {},
   "outputs": [],
   "source": [
    "x = layers.Dense(10,activation= tf.nn.relu)(lr_layer)\n",
    "logit = layers.Dense(1,activation= tf.nn.sigmoid)(x)"
   ]
  },
  {
   "cell_type": "code",
   "execution_count": 34,
   "metadata": {},
   "outputs": [],
   "source": [
    "model = tf.keras.Model(inputs =inputs,outputs = logit )"
   ]
  },
  {
   "cell_type": "code",
   "execution_count": 35,
   "metadata": {},
   "outputs": [
    {
     "data": {
      "image/png": "[encoded data removed]",
      "text/plain": [
       "<IPython.core.display.Image object>"
      ]
     },
     "execution_count": 35,
     "metadata": {},
     "output_type": "execute_result"
    }
   ],
   "source": [
    "tf.keras.utils.plot_model(model,show_shapes=True)"
   ]
  },
  {
   "cell_type": "code",
   "execution_count": 36,
   "metadata": {},
   "outputs": [],
   "source": [
    "model.compile(loss='binary_crossentropy', \n",
    "              optimizer='adam',\n",
    "              metrics=['binary_crossentropy'])"
   ]
  },
  {
   "cell_type": "markdown",
   "metadata": {},
   "source": [
    "接下来需要设置三个 callback 分别是早停 学习率下降 checkpoint"
   ]
  },
  {
   "cell_type": "code",
   "execution_count": 37,
   "metadata": {},
   "outputs": [],
   "source": [
    "plateau = tf.keras.callbacks.ReduceLROnPlateau(monitor='val_loss',\n",
    "                                               factor=0.1,\n",
    "                                               patience=6,\n",
    "                                               mode='min',\n",
    "                                               verbose =1)\n",
    "\n",
    "early_stopping = tf.keras.callbacks.EarlyStopping(monitor='val_loss', \n",
    "                                                 mode='min', \n",
    "                                                 patience=10,\n",
    "                                                 verbose=1)\n",
    "\n",
    "check_point = tf.keras.callbacks.ModelCheckpoint(filepath='fold_h5',\n",
    "                                   monitor='val_loss',\n",
    "                                   verbose=1, \n",
    "                                   mode = 'min', \n",
    "                                   save_best_only = True)\n",
    "\n",
    "callbacks = [plateau,early_stopping,check_point]"
   ]
  },
  {
   "cell_type": "markdown",
   "metadata": {},
   "source": [
    "模型和回调函数都写好了，接下来要 对数据train 进行处理 100个user的数据切分做标签\n",
    "不记得操作可以看下面"
   ]
  },
  {
   "cell_type": "code",
   "execution_count": 38,
   "metadata": {},
   "outputs": [],
   "source": [
    "# #首先看以下操作\n",
    "# df = pd.DataFrame({\n",
    "#     'brand': ['Yum Yum', 'Yum Yum', 'Indomie', 'Indomie', 'Indomie'],\n",
    "#     'style': ['cup', 'cup', 'cup', 'pack', 'pack'],\n",
    "#     'rating': [4, 4, 3.5, 15, 5]\n",
    "# })\n",
    "# print(df)\n",
    "# last_records = df.drop_duplicates('brand',keep = 'last')#照brand重复的数据，保留最后一条其余不要\n",
    "# print(last_records)\n",
    "# dict(zip(last_records['brand'],last_records['style'])) #将两list或df两列的数据dict(zip()) 成为对应的字典\n",
    "\n",
    "# #注意map apply applymap 区别 https://ai.deepshare.net/live/l_5f86a753e4b0e95a89c3fc7d\n",
    "# #不论是利用字典还是函数进行映射，map方法都是把对应的数据逐个当作参数传入到字典或函数中，得到映射后的值。\n",
    "# #data[\"gender\"] = data[\"gender\"].map({\"男\":1, \"女\":0}) map里是个字典的映射\n",
    "# #apply方法，apply方法的作用原理和map方法类似，区别在于apply能够传入功能更为复杂的函数。"
   ]
  },
  {
   "cell_type": "markdown",
   "metadata": {},
   "source": [
    "首先 训练和验证集的分法 我们要解决的问题 官网：\n",
    "Your challenge in this competition is a version of that overall task; you will predict whether students are able to answer their next questions correctly. You'll be provided with the same sorts of information a complete education app would have: that student's historic performance, the performance of other students on the same question, metadata about the question itself, and more.\n",
    "我们想知道这些A学生能否回答对S问题\n",
    "我们知道A学生的历史表现 其他题目回答得怎么样 这些题目别的学生回答怎么样\n",
    "知道S问题本身的信息 和其他学生对S问题的回答情况\n",
    "那分法应当为 按用户id分，每个用户拿走一部分的问答情况来作为验证集，下一道题，那我们应从后往前拿，毕竟user成长了，\n",
    "水平也提高了需要参考历史来对下题进行判断\n",
    "\n",
    "看test——example那个数据 是接下来时间的各种 user 问题都可能出现"
   ]
  },
  {
   "cell_type": "code",
   "execution_count": 39,
   "metadata": {},
   "outputs": [
    {
     "data": {
      "text/html": [
       "<div>\n",
       "<style scoped>\n",
       "    .dataframe tbody tr th:only-of-type {\n",
       "        vertical-align: middle;\n",
       "    }\n",
       "\n",
       "    .dataframe tbody tr th {\n",
       "        vertical-align: top;\n",
       "    }\n",
       "\n",
       "    .dataframe thead th {\n",
       "        text-align: right;\n",
       "    }\n",
       "</style>\n",
       "<table border=\"1\" class=\"dataframe\">\n",
       "  <thead>\n",
       "    <tr style=\"text-align: right;\">\n",
       "      <th></th>\n",
       "      <th>user_id</th>\n",
       "      <th>row_id</th>\n",
       "    </tr>\n",
       "  </thead>\n",
       "  <tbody>\n",
       "    <tr>\n",
       "      <th>0</th>\n",
       "      <td>1</td>\n",
       "      <td>46</td>\n",
       "    </tr>\n",
       "    <tr>\n",
       "      <th>1</th>\n",
       "      <td>2</td>\n",
       "      <td>30</td>\n",
       "    </tr>\n",
       "    <tr>\n",
       "      <th>2</th>\n",
       "      <td>3</td>\n",
       "      <td>19</td>\n",
       "    </tr>\n",
       "    <tr>\n",
       "      <th>3</th>\n",
       "      <td>4</td>\n",
       "      <td>100</td>\n",
       "    </tr>\n",
       "    <tr>\n",
       "      <th>4</th>\n",
       "      <td>5</td>\n",
       "      <td>100</td>\n",
       "    </tr>\n",
       "    <tr>\n",
       "      <th>...</th>\n",
       "      <td>...</td>\n",
       "      <td>...</td>\n",
       "    </tr>\n",
       "    <tr>\n",
       "      <th>393651</th>\n",
       "      <td>393652</td>\n",
       "      <td>100</td>\n",
       "    </tr>\n",
       "    <tr>\n",
       "      <th>393652</th>\n",
       "      <td>393653</td>\n",
       "      <td>100</td>\n",
       "    </tr>\n",
       "    <tr>\n",
       "      <th>393653</th>\n",
       "      <td>393654</td>\n",
       "      <td>50</td>\n",
       "    </tr>\n",
       "    <tr>\n",
       "      <th>393654</th>\n",
       "      <td>393655</td>\n",
       "      <td>100</td>\n",
       "    </tr>\n",
       "    <tr>\n",
       "      <th>393655</th>\n",
       "      <td>393656</td>\n",
       "      <td>27</td>\n",
       "    </tr>\n",
       "  </tbody>\n",
       "</table>\n",
       "<p>393656 rows × 2 columns</p>\n",
       "</div>"
      ],
      "text/plain": [
       "        user_id  row_id\n",
       "0             1      46\n",
       "1             2      30\n",
       "2             3      19\n",
       "3             4     100\n",
       "4             5     100\n",
       "...         ...     ...\n",
       "393651   393652     100\n",
       "393652   393653     100\n",
       "393653   393654      50\n",
       "393654   393655     100\n",
       "393655   393656      27\n",
       "\n",
       "[393656 rows x 2 columns]"
      ]
     },
     "execution_count": 39,
     "metadata": {},
     "output_type": "execute_result"
    }
   ],
   "source": [
    "train.groupby(['user_id'])['row_id'].count().reset_index()#看一下处理前每个user数据 因为取了最后100个 所以不足100全取了，100以上的每个都留了100条数据 共3824人\n",
    "#要注意这次没用全数据，可能有一些根本没几条数据，验证集分太多可能直接把这个user 在训练集里就没了"
   ]
  },
  {
   "cell_type": "code",
   "execution_count": 40,
   "metadata": {},
   "outputs": [
    {
     "name": "stdout",
     "output_type": "stream",
     "text": [
      "393656\n",
      "787225\n",
      "1180734\n",
      "1574202\n",
      "1967602\n",
      "2360984\n",
      "2754348\n",
      "3146047\n",
      "3537383\n",
      "3928411\n"
     ]
    }
   ],
   "source": [
    "\n",
    "valid = pd.DataFrame()\n",
    "for i in range(10):\n",
    "    last_records = train.drop_duplicates('user_id',keep='last')#取出每个user最后一条记录\n",
    "    map__last_records__user_row = dict(zip(last_records['user_id'],last_records['row_id']))#做一个取出的user到取出的记录的行索引的字典\n",
    "    train['filter_row'] = train['user_id'].map(map__last_records__user_row)#每个user新添加一个该user被拿走的最后一条的row——id的记录\n",
    "    train = train[train['row_id']<train['filter_row']]#对行保留没被拿走的作为训练集\n",
    "    \n",
    "    valid = valid.append(last_records)\n",
    "    print(len(valid))\n",
    "    \n"
   ]
  },
  {
   "cell_type": "markdown",
   "metadata": {},
   "source": [
    "分完了 来做标签 分测试集"
   ]
  },
  {
   "cell_type": "code",
   "execution_count": 41,
   "metadata": {},
   "outputs": [
    {
     "data": {
      "text/plain": [
       "numpy.ndarray"
      ]
     },
     "execution_count": 41,
     "metadata": {},
     "output_type": "execute_result"
    }
   ],
   "source": [
    "type(valid['user_id'].values)"
   ]
  },
  {
   "cell_type": "code",
   "execution_count": 42,
   "metadata": {},
   "outputs": [],
   "source": [
    "\n",
    "features_columns = ['timestamp','prior_question_elapsed_time',\\\n",
    "                    'user_id','content_id',\\\n",
    "                    'task_container_id','prior_question_had_explanation',\\\n",
    "                    'bundle_id','part']#这些是要训练的\n",
    "X_valid, y_valid = [valid[columns].values for columns in features_columns], valid['answered_correctly'].values#怎么理解这一句\n",
    "#这是for分别取出了每一列 然后放在一个list里【】 但每个列是ndarray\n",
    "X_train, y_train = [train[columns].values for columns in features_columns], train['answered_correctly'].values"
   ]
  },
  {
   "cell_type": "code",
   "execution_count": 43,
   "metadata": {},
   "outputs": [
    {
     "name": "stdout",
     "output_type": "stream",
     "text": [
      "<class 'list'>\n",
      "<class 'numpy.ndarray'>\n",
      "<class 'pandas.core.frame.DataFrame'>\n",
      "<class 'pandas.core.series.Series'>\n",
      "(18150006,)\n",
      "(18150006,)\n",
      "(3928411,)\n"
     ]
    }
   ],
   "source": [
    "print(type(X_train))#.values方法拿出来的是ndarray\n",
    "print(type(X_train[0]))\n",
    "print(type(valid))\n",
    "print(type(valid['row_id']))\n",
    "print(X_train[0].shape)\n",
    "print(y_train.shape)\n",
    "print(X_valid[0].shape)"
   ]
  },
  {
   "cell_type": "markdown",
   "metadata": {},
   "source": [
    "接下来训练模型"
   ]
  },
  {
   "cell_type": "code",
   "execution_count": null,
   "metadata": {},
   "outputs": [
    {
     "name": "stdout",
     "output_type": "stream",
     "text": [
      "Train on 18150006 samples, validate on 3928411 samples\n",
      "Epoch 1/100\n",
      "17920000/18150006 [============================>.] - ETA: 0s - loss: 0.6847 - binary_crossentropy: 0.6847\n",
      "Epoch 00001: val_loss improved from inf to 0.67556, saving model to fold_h5\n",
      "WARNING:tensorflow:From /home/liaoqing/anaconda3/lib/python3.7/site-packages/tensorflow_core/python/ops/resource_variable_ops.py:1786: calling BaseResourceVariable.__init__ (from tensorflow.python.ops.resource_variable_ops) with constraint is deprecated and will be removed in a future version.\n",
      "Instructions for updating:\n",
      "If using Keras pass *_constraint arguments to layers.\n",
      "INFO:tensorflow:Assets written to: fold_h5/assets\n",
      "18150006/18150006 [==============================] - 6s 0us/sample - loss: 0.6845 - binary_crossentropy: 0.6845 - val_loss: 0.6756 - val_binary_crossentropy: 0.6756\n",
      "Epoch 2/100\n",
      "17920000/18150006 [============================>.] - ETA: 0s - loss: 0.6519 - binary_crossentropy: 0.6519\n",
      "Epoch 00002: val_loss improved from 0.67556 to 0.65196, saving model to fold_h5\n",
      "INFO:tensorflow:Assets written to: fold_h5/assets\n",
      "18150006/18150006 [==============================] - 4s 0us/sample - loss: 0.6517 - binary_crossentropy: 0.6517 - val_loss: 0.6520 - val_binary_crossentropy: 0.6520\n",
      "Epoch 3/100\n",
      "17920000/18150006 [============================>.] - ETA: 0s - loss: 0.6215 - binary_crossentropy: 0.6215\n",
      "Epoch 00003: val_loss improved from 0.65196 to 0.63438, saving model to fold_h5\n",
      "INFO:tensorflow:Assets written to: fold_h5/assets\n",
      "18150006/18150006 [==============================] - 4s 0us/sample - loss: 0.6213 - binary_crossentropy: 0.6213 - val_loss: 0.6344 - val_binary_crossentropy: 0.6344\n",
      "Epoch 4/100\n",
      "17920000/18150006 [============================>.] - ETA: 0s - loss: 0.6042 - binary_crossentropy: 0.6042\n",
      "Epoch 00004: val_loss improved from 0.63438 to 0.62728, saving model to fold_h5\n",
      "INFO:tensorflow:Assets written to: fold_h5/assets\n",
      "18150006/18150006 [==============================] - 4s 0us/sample - loss: 0.6042 - binary_crossentropy: 0.6042 - val_loss: 0.6273 - val_binary_crossentropy: 0.6273\n",
      "Epoch 5/100\n",
      "17920000/18150006 [============================>.] - ETA: 0s - loss: 0.5961 - binary_crossentropy: 0.5961\n",
      "Epoch 00005: val_loss improved from 0.62728 to 0.62369, saving model to fold_h5\n",
      "INFO:tensorflow:Assets written to: fold_h5/assets\n",
      "18150006/18150006 [==============================] - 4s 0us/sample - loss: 0.5961 - binary_crossentropy: 0.5961 - val_loss: 0.6237 - val_binary_crossentropy: 0.6237\n",
      "Epoch 6/100\n",
      "17920000/18150006 [============================>.] - ETA: 0s - loss: 0.5904 - binary_crossentropy: 0.5904\n",
      "Epoch 00006: val_loss improved from 0.62369 to 0.62064, saving model to fold_h5\n",
      "INFO:tensorflow:Assets written to: fold_h5/assets\n",
      "18150006/18150006 [==============================] - 4s 0us/sample - loss: 0.5903 - binary_crossentropy: 0.5903 - val_loss: 0.6206 - val_binary_crossentropy: 0.6206\n",
      "Epoch 7/100\n",
      "17920000/18150006 [============================>.] - ETA: 0s - loss: 0.5845 - binary_crossentropy: 0.5845\n",
      "Epoch 00007: val_loss improved from 0.62064 to 0.61700, saving model to fold_h5\n",
      "INFO:tensorflow:Assets written to: fold_h5/assets\n",
      "18150006/18150006 [==============================] - 4s 0us/sample - loss: 0.5844 - binary_crossentropy: 0.5844 - val_loss: 0.6170 - val_binary_crossentropy: 0.6170\n",
      "Epoch 8/100\n",
      "17920000/18150006 [============================>.] - ETA: 0s - loss: 0.5778 - binary_crossentropy: 0.5778\n",
      "Epoch 00008: val_loss improved from 0.61700 to 0.61278, saving model to fold_h5\n",
      "INFO:tensorflow:Assets written to: fold_h5/assets\n",
      "18150006/18150006 [==============================] - 4s 0us/sample - loss: 0.5778 - binary_crossentropy: 0.5778 - val_loss: 0.6128 - val_binary_crossentropy: 0.6128\n",
      "Epoch 9/100\n",
      "17920000/18150006 [============================>.] - ETA: 0s - loss: 0.5704 - binary_crossentropy: 0.5704\n",
      "Epoch 00009: val_loss improved from 0.61278 to 0.60790, saving model to fold_h5\n",
      "INFO:tensorflow:Assets written to: fold_h5/assets\n",
      "18150006/18150006 [==============================] - 4s 0us/sample - loss: 0.5704 - binary_crossentropy: 0.5704 - val_loss: 0.6079 - val_binary_crossentropy: 0.6079\n",
      "Epoch 10/100\n",
      "17920000/18150006 [============================>.] - ETA: 0s - loss: 0.5627 - binary_crossentropy: 0.5627\n",
      "Epoch 00010: val_loss improved from 0.60790 to 0.60427, saving model to fold_h5\n",
      "INFO:tensorflow:Assets written to: fold_h5/assets\n",
      "18150006/18150006 [==============================] - 4s 0us/sample - loss: 0.5627 - binary_crossentropy: 0.5627 - val_loss: 0.6043 - val_binary_crossentropy: 0.6043\n",
      "Epoch 11/100\n",
      "17920000/18150006 [============================>.] - ETA: 0s - loss: 0.5571 - binary_crossentropy: 0.5571\n",
      "Epoch 00011: val_loss improved from 0.60427 to 0.60198, saving model to fold_h5\n",
      "INFO:tensorflow:Assets written to: fold_h5/assets\n",
      "18150006/18150006 [==============================] - 4s 0us/sample - loss: 0.5570 - binary_crossentropy: 0.5570 - val_loss: 0.6020 - val_binary_crossentropy: 0.6020\n",
      "Epoch 12/100\n",
      " 3072000/18150006 [====>.........................] - ETA: 2s - loss: 0.5539 - binary_crossentropy: 0.5539"
     ]
    }
   ],
   "source": [
    "model.fit(X_train,y_train,\n",
    "          epochs= 100, \n",
    "          batch_size = 512*500*2,\n",
    "          verbose= 1,\n",
    "          shuffle=True,\n",
    "          validation_data=(X_valid,y_valid), \n",
    "          callbacks = callbacks)"
   ]
  },
  {
   "cell_type": "code",
   "execution_count": null,
   "metadata": {},
   "outputs": [],
   "source": [
    "y_valid_proba = model.predict(X_valid,verbose=0,batch_size = 512)\n",
    "auc = roc_auc_score(y_valid,y_valid_proba)\n",
    "print(auc)"
   ]
  },
  {
   "cell_type": "markdown",
   "metadata": {},
   "source": [
    "以下用保存的模型 验证"
   ]
  },
  {
   "cell_type": "code",
   "execution_count": null,
   "metadata": {},
   "outputs": [],
   "source": []
  }
 ],
 "metadata": {
  "kernelspec": {
   "display_name": "Python 3",
   "language": "python",
   "name": "python3"
  },
  "language_info": {
   "codemirror_mode": {
    "name": "ipython",
    "version": 3
   },
   "file_extension": ".py",
   "mimetype": "text/x-python",
   "name": "python",
   "nbconvert_exporter": "python",
   "pygments_lexer": "ipython3",
   "version": "3.7.7"
  }
 },
 "nbformat": 4,
 "nbformat_minor": 4
}
