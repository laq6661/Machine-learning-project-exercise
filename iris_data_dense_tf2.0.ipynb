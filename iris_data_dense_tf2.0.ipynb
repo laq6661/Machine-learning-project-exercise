{
 "cells": [
  {
   "cell_type": "code",
   "execution_count": 1,
   "metadata": {},
   "outputs": [],
   "source": [
    "import numpy as np\n",
    "import pandas as pd\n",
    "import tensorflow as tf\n",
    "from tensorflow.keras import layers\n",
    "from sklearn.model_selection import train_test_split\n",
    "from sklearn.datasets import fetch_openml\n",
    "from sklearn import preprocessing"
   ]
  },
  {
   "cell_type": "code",
   "execution_count": 2,
   "metadata": {},
   "outputs": [
    {
     "name": "stdout",
     "output_type": "stream",
     "text": [
      "2.1.0\n",
      "WARNING:tensorflow:From <ipython-input-2-2e82a26757ae>:2: is_gpu_available (from tensorflow.python.framework.test_util) is deprecated and will be removed in a future version.\n",
      "Instructions for updating:\n",
      "Use `tf.config.list_physical_devices('GPU')` instead.\n",
      "True\n"
     ]
    }
   ],
   "source": [
    "print(tf.__version__)\n",
    "print(tf.test.is_gpu_available())"
   ]
  },
  {
   "cell_type": "code",
   "execution_count": 3,
   "metadata": {},
   "outputs": [
    {
     "name": "stdout",
     "output_type": "stream",
     "text": [
      "[PhysicalDevice(name='/physical_device:GPU:0', device_type='GPU')]\n"
     ]
    }
   ],
   "source": [
    "import os\n",
    "os.environ[\"CUDA_DEVICE_ORDER\"]=\"PCI_BUS_ID\"\n",
    "# The GPU id to use, usually either \"0\" or \"1\"\n",
    "os.environ[\"CUDA_VISIBLE_DEVICES\"] = \"0\"   \n",
    "gpus = tf.config.experimental.list_physical_devices(device_type='GPU')\n",
    "print(gpus)\n",
    "for gpu in gpus:\n",
    "    tf.config.experimental.set_memory_growth(gpu,True)#动态分配gpu别让tf一下占满"
   ]
  },
  {
   "cell_type": "code",
   "execution_count": 4,
   "metadata": {},
   "outputs": [],
   "source": [
    "X,Y = fetch_openml('iris',version= 1,return_X_y= True)"
   ]
  },
  {
   "cell_type": "code",
   "execution_count": 5,
   "metadata": {},
   "outputs": [
    {
     "data": {
      "text/plain": [
       "numpy.ndarray"
      ]
     },
     "execution_count": 5,
     "metadata": {},
     "output_type": "execute_result"
    }
   ],
   "source": [
    "type(X)"
   ]
  },
  {
   "cell_type": "code",
   "execution_count": 6,
   "metadata": {},
   "outputs": [
    {
     "name": "stdout",
     "output_type": "stream",
     "text": [
      "shape of X (150, 4)\n",
      "shape of Y (150,)\n",
      "[[5.1 3.5 1.4 0.2]\n",
      " [4.9 3.  1.4 0.2]\n",
      " [4.7 3.2 1.3 0.2]\n",
      " [4.6 3.1 1.5 0.2]\n",
      " [5.  3.6 1.4 0.2]\n",
      " [5.4 3.9 1.7 0.4]\n",
      " [4.6 3.4 1.4 0.3]\n",
      " [5.  3.4 1.5 0.2]\n",
      " [4.4 2.9 1.4 0.2]\n",
      " [4.9 3.1 1.5 0.1]]\n",
      "['Iris-setosa' 'Iris-setosa' 'Iris-setosa' 'Iris-setosa' 'Iris-setosa'\n",
      " 'Iris-setosa' 'Iris-setosa' 'Iris-setosa' 'Iris-setosa' 'Iris-setosa']\n"
     ]
    }
   ],
   "source": [
    "print(\"shape of X\",X.shape)\n",
    "print(\"shape of Y\",Y.shape)\n",
    "print(X[:10])\n",
    "print(Y[:10])\n",
    "# 1. sepal length in cm\n",
    "# 2. sepal width in cm\n",
    "# 3. petal length in cm\n",
    "# 4. petal width in cm"
   ]
  },
  {
   "cell_type": "code",
   "execution_count": 7,
   "metadata": {},
   "outputs": [
    {
     "name": "stdout",
     "output_type": "stream",
     "text": [
      "(150, 3)\n",
      "[[1. 0. 0.]\n",
      " [1. 0. 0.]\n",
      " [1. 0. 0.]\n",
      " [1. 0. 0.]\n",
      " [1. 0. 0.]\n",
      " [1. 0. 0.]\n",
      " [1. 0. 0.]\n",
      " [1. 0. 0.]\n",
      " [1. 0. 0.]\n",
      " [1. 0. 0.]]\n"
     ]
    }
   ],
   "source": [
    "Y = Y.reshape(len(Y),-1)#需要reshape成列向量\n",
    "enc = preprocessing.OneHotEncoder()\n",
    "enc.fit(Y)\n",
    "labels = enc.transform(Y).toarray()#需要三步有点麻烦\n",
    "print (labels.shape)\n",
    "print(labels[:10,:])"
   ]
  },
  {
   "cell_type": "code",
   "execution_count": 8,
   "metadata": {},
   "outputs": [],
   "source": [
    "trainX,testX,trainY,testY = train_test_split(X,labels,train_size = 120,test_size = 30,random_state = 233)"
   ]
  },
  {
   "cell_type": "code",
   "execution_count": 9,
   "metadata": {},
   "outputs": [
    {
     "name": "stdout",
     "output_type": "stream",
     "text": [
      "shape of trainX (120, 4)\n",
      "shape of trainY (120, 3)\n",
      "[[4.8 3.  1.4 0.3]\n",
      " [6.3 3.3 4.7 1.6]\n",
      " [6.1 2.8 4.  1.3]\n",
      " [5.  2.  3.5 1. ]\n",
      " [5.6 2.7 4.2 1.3]\n",
      " [5.4 3.7 1.5 0.2]\n",
      " [6.7 2.5 5.8 1.8]\n",
      " [5.  2.3 3.3 1. ]\n",
      " [7.3 2.9 6.3 1.8]\n",
      " [7.6 3.  6.6 2.1]\n",
      " [6.3 2.7 4.9 1.8]\n",
      " [5.  3.3 1.4 0.2]\n",
      " [5.8 2.7 3.9 1.2]\n",
      " [7.7 2.6 6.9 2.3]\n",
      " [4.9 3.1 1.5 0.1]\n",
      " [6.1 2.9 4.7 1.4]\n",
      " [5.4 3.4 1.7 0.2]\n",
      " [6.4 2.8 5.6 2.1]\n",
      " [5.1 3.8 1.5 0.3]\n",
      " [6.8 3.  5.5 2.1]]\n",
      "[[1. 0. 0.]\n",
      " [0. 1. 0.]\n",
      " [0. 1. 0.]\n",
      " [0. 1. 0.]\n",
      " [0. 1. 0.]\n",
      " [1. 0. 0.]\n",
      " [0. 0. 1.]\n",
      " [0. 1. 0.]\n",
      " [0. 0. 1.]\n",
      " [0. 0. 1.]\n",
      " [0. 0. 1.]\n",
      " [1. 0. 0.]\n",
      " [0. 1. 0.]\n",
      " [0. 0. 1.]\n",
      " [1. 0. 0.]\n",
      " [0. 1. 0.]\n",
      " [1. 0. 0.]\n",
      " [0. 0. 1.]\n",
      " [1. 0. 0.]\n",
      " [0. 0. 1.]]\n"
     ]
    }
   ],
   "source": [
    "print(\"shape of trainX\",trainX.shape)\n",
    "print(\"shape of trainY\",trainY.shape)\n",
    "print(trainX[:20])\n",
    "print(trainY[:20])"
   ]
  },
  {
   "cell_type": "code",
   "execution_count": 10,
   "metadata": {},
   "outputs": [],
   "source": [
    "def MyModel(inputs):\n",
    "    x = layers.Dense(10,activation=\"tanh\")(inputs)\n",
    "    x = layers.Dense(8,activation=\"tanh\")(x)\n",
    "    x = layers.Dense(6,activation=\"tanh\")(x)\n",
    "    output = layers.Dense(3,activation=\"softmax\")(x)\n",
    "    model = tf.keras.Model(inputs = inputs,outputs = output)\n",
    "    model.summary()\n",
    "    return model"
   ]
  },
  {
   "cell_type": "code",
   "execution_count": 11,
   "metadata": {},
   "outputs": [
    {
     "name": "stdout",
     "output_type": "stream",
     "text": [
      "Model: \"model\"\n",
      "_________________________________________________________________\n",
      "Layer (type)                 Output Shape              Param #   \n",
      "=================================================================\n",
      "input_1 (InputLayer)         [(None, 4)]               0         \n",
      "_________________________________________________________________\n",
      "dense (Dense)                (None, 10)                50        \n",
      "_________________________________________________________________\n",
      "dense_1 (Dense)              (None, 8)                 88        \n",
      "_________________________________________________________________\n",
      "dense_2 (Dense)              (None, 6)                 54        \n",
      "_________________________________________________________________\n",
      "dense_3 (Dense)              (None, 3)                 21        \n",
      "=================================================================\n",
      "Total params: 213\n",
      "Trainable params: 213\n",
      "Non-trainable params: 0\n",
      "_________________________________________________________________\n"
     ]
    },
    {
     "data": {
      "image/png": "[encoded data removed]",
      "text/plain": [
       "<IPython.core.display.Image object>"
      ]
     },
     "execution_count": 11,
     "metadata": {},
     "output_type": "execute_result"
    }
   ],
   "source": [
    "model = MyModel(tf.keras.Input(shape=(4)))\n",
    "tf.keras.utils.plot_model(model)"
   ]
  },
  {
   "cell_type": "code",
   "execution_count": 12,
   "metadata": {},
   "outputs": [],
   "source": [
    "adam = tf.keras.optimizers.Adam(lr = 0.04, beta_1=0.9, beta_2=0.999)\n",
    "sc = tf.keras.losses.CategoricalCrossentropy(from_logits=True)\n",
    "model.compile(optimizer= adam, loss= sc, metrics=['accuracy','AUC'])"
   ]
  },
  {
   "cell_type": "code",
   "execution_count": 13,
   "metadata": {},
   "outputs": [
    {
     "name": "stdout",
     "output_type": "stream",
     "text": [
      "Train on 96 samples, validate on 24 samples\n",
      "Epoch 1/150\n",
      "96/96 [==============================] - 1s 6ms/sample - loss: 1.1076 - accuracy: 0.3021 - AUC: 0.5337 - val_loss: 1.0936 - val_accuracy: 0.5833 - val_AUC: 0.6059\n",
      "Epoch 2/150\n",
      "96/96 [==============================] - 0s 129us/sample - loss: 1.0551 - accuracy: 0.7083 - AUC: 0.7071 - val_loss: 1.0938 - val_accuracy: 0.5000 - val_AUC: 0.5751\n",
      "Epoch 3/150\n",
      "96/96 [==============================] - 0s 130us/sample - loss: 1.0157 - accuracy: 0.6771 - AUC: 0.7008 - val_loss: 1.0196 - val_accuracy: 0.5833 - val_AUC: 0.6463\n",
      "Epoch 4/150\n",
      "96/96 [==============================] - 0s 121us/sample - loss: 0.9281 - accuracy: 0.7083 - AUC: 0.7595 - val_loss: 0.9667 - val_accuracy: 0.5833 - val_AUC: 0.6936\n",
      "Epoch 5/150\n",
      "96/96 [==============================] - 0s 136us/sample - loss: 0.8707 - accuracy: 0.7083 - AUC: 0.8199 - val_loss: 0.9379 - val_accuracy: 0.5833 - val_AUC: 0.8229\n",
      "Epoch 6/150\n",
      "96/96 [==============================] - 0s 115us/sample - loss: 0.8367 - accuracy: 0.7083 - AUC: 0.9129 - val_loss: 0.9088 - val_accuracy: 0.5833 - val_AUC: 0.8815\n",
      "Epoch 7/150\n",
      "96/96 [==============================] - 0s 125us/sample - loss: 0.7981 - accuracy: 0.7083 - AUC: 0.9315 - val_loss: 0.8467 - val_accuracy: 0.6250 - val_AUC: 0.9049\n",
      "Epoch 8/150\n",
      "96/96 [==============================] - 0s 128us/sample - loss: 0.7537 - accuracy: 0.8229 - AUC: 0.9662 - val_loss: 0.7846 - val_accuracy: 0.7917 - val_AUC: 0.9440\n",
      "Epoch 9/150\n",
      "96/96 [==============================] - 0s 106us/sample - loss: 0.7057 - accuracy: 0.9583 - AUC: 0.9902 - val_loss: 0.6928 - val_accuracy: 1.0000 - val_AUC: 1.0000\n",
      "Epoch 10/150\n",
      "96/96 [==============================] - 0s 148us/sample - loss: 0.6677 - accuracy: 0.9688 - AUC: 0.9962 - val_loss: 0.7012 - val_accuracy: 0.9167 - val_AUC: 0.9874\n",
      "Epoch 11/150\n",
      "96/96 [==============================] - 0s 122us/sample - loss: 0.6411 - accuracy: 0.9688 - AUC: 0.9971 - val_loss: 0.6336 - val_accuracy: 0.9583 - val_AUC: 0.9991\n",
      "Epoch 12/150\n",
      "96/96 [==============================] - 0s 120us/sample - loss: 0.6216 - accuracy: 0.9688 - AUC: 0.9983 - val_loss: 0.6997 - val_accuracy: 0.8333 - val_AUC: 0.9796\n",
      "Epoch 13/150\n",
      "96/96 [==============================] - 0s 104us/sample - loss: 0.6219 - accuracy: 0.9479 - AUC: 0.9955 - val_loss: 0.5917 - val_accuracy: 1.0000 - val_AUC: 1.0000\n",
      "Epoch 14/150\n",
      "96/96 [==============================] - 0s 138us/sample - loss: 0.6004 - accuracy: 0.9688 - AUC: 0.9988 - val_loss: 0.6370 - val_accuracy: 0.9167 - val_AUC: 0.9931\n",
      "Epoch 15/150\n",
      "96/96 [==============================] - 0s 119us/sample - loss: 0.5983 - accuracy: 0.9688 - AUC: 0.9977 - val_loss: 0.5874 - val_accuracy: 0.9583 - val_AUC: 0.9991\n",
      "Epoch 16/150\n",
      "96/96 [==============================] - 0s 113us/sample - loss: 0.5944 - accuracy: 0.9688 - AUC: 0.9985 - val_loss: 0.6349 - val_accuracy: 0.9167 - val_AUC: 0.9931\n",
      "Epoch 17/150\n",
      "96/96 [==============================] - 0s 110us/sample - loss: 0.5944 - accuracy: 0.9688 - AUC: 0.9867 - val_loss: 0.7107 - val_accuracy: 0.8333 - val_AUC: 0.9666\n",
      "Epoch 18/150\n",
      "96/96 [==============================] - 0s 122us/sample - loss: 0.6122 - accuracy: 0.9375 - AUC: 0.9826 - val_loss: 0.5765 - val_accuracy: 1.0000 - val_AUC: 1.0000\n",
      "Epoch 19/150\n",
      "96/96 [==============================] - 0s 124us/sample - loss: 0.6020 - accuracy: 0.9479 - AUC: 0.9978 - val_loss: 0.7158 - val_accuracy: 0.8333 - val_AUC: 0.9440\n",
      "Epoch 20/150\n",
      "96/96 [==============================] - 0s 100us/sample - loss: 0.6354 - accuracy: 0.9167 - AUC: 0.9763 - val_loss: 0.6198 - val_accuracy: 0.9167 - val_AUC: 0.9961\n",
      "Epoch 21/150\n",
      "96/96 [==============================] - 0s 151us/sample - loss: 0.5777 - accuracy: 0.9792 - AUC: 0.9937 - val_loss: 0.6923 - val_accuracy: 0.8750 - val_AUC: 0.9106\n",
      "Epoch 22/150\n",
      "96/96 [==============================] - 0s 113us/sample - loss: 0.6692 - accuracy: 0.8854 - AUC: 0.9344 - val_loss: 0.5672 - val_accuracy: 1.0000 - val_AUC: 1.0000\n",
      "Epoch 23/150\n",
      "96/96 [==============================] - 0s 110us/sample - loss: 0.5774 - accuracy: 0.9792 - AUC: 0.9950 - val_loss: 0.8585 - val_accuracy: 0.6667 - val_AUC: 0.8207\n",
      "Epoch 24/150\n",
      "96/96 [==============================] - 0s 110us/sample - loss: 0.6607 - accuracy: 0.8750 - AUC: 0.9484 - val_loss: 0.6370 - val_accuracy: 0.9167 - val_AUC: 0.9779\n",
      "Epoch 25/150\n",
      "96/96 [==============================] - 0s 134us/sample - loss: 0.5772 - accuracy: 0.9792 - AUC: 0.9899 - val_loss: 0.6409 - val_accuracy: 0.9167 - val_AUC: 0.9761\n",
      "Epoch 26/150\n",
      "96/96 [==============================] - 0s 139us/sample - loss: 0.6522 - accuracy: 0.9062 - AUC: 0.9473 - val_loss: 0.5693 - val_accuracy: 1.0000 - val_AUC: 1.0000\n",
      "Epoch 27/150\n",
      "96/96 [==============================] - 0s 118us/sample - loss: 0.6191 - accuracy: 0.9271 - AUC: 0.9762 - val_loss: 0.8060 - val_accuracy: 0.7500 - val_AUC: 0.8459\n",
      "Epoch 28/150\n",
      "96/96 [==============================] - 0s 113us/sample - loss: 0.6430 - accuracy: 0.9167 - AUC: 0.9427 - val_loss: 0.8854 - val_accuracy: 0.6667 - val_AUC: 0.7413\n",
      "Epoch 29/150\n",
      "96/96 [==============================] - 0s 125us/sample - loss: 0.6732 - accuracy: 0.8750 - AUC: 0.9245 - val_loss: 0.5705 - val_accuracy: 1.0000 - val_AUC: 1.0000\n",
      "Epoch 30/150\n",
      "96/96 [==============================] - 0s 135us/sample - loss: 0.6212 - accuracy: 0.9271 - AUC: 0.9746 - val_loss: 0.6725 - val_accuracy: 0.8750 - val_AUC: 0.9314\n",
      "Epoch 31/150\n",
      "96/96 [==============================] - 0s 108us/sample - loss: 0.6704 - accuracy: 0.8750 - AUC: 0.9467 - val_loss: 0.5742 - val_accuracy: 0.9583 - val_AUC: 0.9991\n",
      "Epoch 32/150\n",
      "96/96 [==============================] - 0s 138us/sample - loss: 0.5767 - accuracy: 0.9792 - AUC: 0.9839 - val_loss: 0.7860 - val_accuracy: 0.7500 - val_AUC: 0.9028\n",
      "Epoch 33/150\n",
      "96/96 [==============================] - 0s 123us/sample - loss: 0.6414 - accuracy: 0.9062 - AUC: 0.9495 - val_loss: 0.7244 - val_accuracy: 0.8333 - val_AUC: 0.9219\n",
      "Epoch 34/150\n",
      "96/96 [==============================] - 0s 167us/sample - loss: 0.6046 - accuracy: 0.9479 - AUC: 0.9753 - val_loss: 0.5623 - val_accuracy: 1.0000 - val_AUC: 1.0000\n",
      "Epoch 35/150\n",
      "96/96 [==============================] - 0s 144us/sample - loss: 0.5872 - accuracy: 0.9688 - AUC: 0.9987 - val_loss: 0.5545 - val_accuracy: 1.0000 - val_AUC: 1.0000\n",
      "Epoch 36/150\n",
      "96/96 [==============================] - 0s 167us/sample - loss: 0.5915 - accuracy: 0.9583 - AUC: 0.9910 - val_loss: 0.5669 - val_accuracy: 1.0000 - val_AUC: 1.0000\n",
      "Epoch 37/150\n",
      "96/96 [==============================] - 0s 153us/sample - loss: 0.5845 - accuracy: 0.9688 - AUC: 0.9836 - val_loss: 0.5968 - val_accuracy: 0.9583 - val_AUC: 0.9974\n",
      "Epoch 38/150\n",
      "96/96 [==============================] - 0s 151us/sample - loss: 0.5833 - accuracy: 0.9688 - AUC: 0.9839 - val_loss: 0.5925 - val_accuracy: 0.9583 - val_AUC: 0.9991\n",
      "Epoch 39/150\n",
      "96/96 [==============================] - 0s 155us/sample - loss: 0.5827 - accuracy: 0.9688 - AUC: 0.9840 - val_loss: 0.5693 - val_accuracy: 1.0000 - val_AUC: 1.0000\n",
      "Epoch 40/150\n",
      "96/96 [==============================] - 0s 146us/sample - loss: 0.5770 - accuracy: 0.9792 - AUC: 0.9912 - val_loss: 0.5580 - val_accuracy: 1.0000 - val_AUC: 1.0000\n",
      "Epoch 41/150\n",
      "96/96 [==============================] - 0s 142us/sample - loss: 0.5803 - accuracy: 0.9688 - AUC: 0.9914 - val_loss: 0.5892 - val_accuracy: 0.9583 - val_AUC: 0.9991\n",
      "Epoch 42/150\n",
      "96/96 [==============================] - 0s 153us/sample - loss: 0.5810 - accuracy: 0.9688 - AUC: 0.9840 - val_loss: 0.6181 - val_accuracy: 0.9167 - val_AUC: 0.9965\n",
      "Epoch 43/150\n",
      "96/96 [==============================] - 0s 119us/sample - loss: 0.5846 - accuracy: 0.9688 - AUC: 0.9837 - val_loss: 0.6336 - val_accuracy: 0.9167 - val_AUC: 0.9926\n",
      "Epoch 44/150\n",
      "96/96 [==============================] - 0s 145us/sample - loss: 0.5866 - accuracy: 0.9688 - AUC: 0.9836 - val_loss: 0.6198 - val_accuracy: 0.9167 - val_AUC: 0.9965\n",
      "Epoch 45/150\n",
      "96/96 [==============================] - 0s 114us/sample - loss: 0.5841 - accuracy: 0.9688 - AUC: 0.9838 - val_loss: 0.5980 - val_accuracy: 0.9583 - val_AUC: 0.9974\n",
      "Epoch 46/150\n",
      "96/96 [==============================] - 0s 120us/sample - loss: 0.5831 - accuracy: 0.9688 - AUC: 0.9839 - val_loss: 0.5723 - val_accuracy: 0.9583 - val_AUC: 0.9991\n"
     ]
    },
    {
     "name": "stdout",
     "output_type": "stream",
     "text": [
      "Epoch 47/150\n",
      "96/96 [==============================] - 0s 115us/sample - loss: 0.5763 - accuracy: 0.9792 - AUC: 0.9916 - val_loss: 0.5543 - val_accuracy: 1.0000 - val_AUC: 1.0000\n",
      "Epoch 48/150\n",
      "96/96 [==============================] - 0s 164us/sample - loss: 0.5895 - accuracy: 0.9583 - AUC: 0.9913 - val_loss: 0.5554 - val_accuracy: 1.0000 - val_AUC: 1.0000\n",
      "Epoch 49/150\n",
      "96/96 [==============================] - 0s 122us/sample - loss: 0.5891 - accuracy: 0.9583 - AUC: 0.9912 - val_loss: 0.5918 - val_accuracy: 0.9583 - val_AUC: 0.9991\n",
      "Epoch 50/150\n",
      "96/96 [==============================] - 0s 110us/sample - loss: 0.5818 - accuracy: 0.9688 - AUC: 0.9840 - val_loss: 0.5656 - val_accuracy: 1.0000 - val_AUC: 1.0000\n",
      "Epoch 51/150\n",
      "96/96 [==============================] - 0s 113us/sample - loss: 0.5755 - accuracy: 0.9792 - AUC: 0.9915 - val_loss: 0.5541 - val_accuracy: 1.0000 - val_AUC: 1.0000\n",
      "Epoch 52/150\n",
      "96/96 [==============================] - 0s 109us/sample - loss: 0.5928 - accuracy: 0.9583 - AUC: 0.9908 - val_loss: 0.5549 - val_accuracy: 1.0000 - val_AUC: 1.0000\n",
      "Epoch 53/150\n",
      "96/96 [==============================] - 0s 117us/sample - loss: 0.5814 - accuracy: 0.9688 - AUC: 0.9838 - val_loss: 0.6253 - val_accuracy: 0.9167 - val_AUC: 0.9961\n",
      "Epoch 54/150\n",
      "96/96 [==============================] - 0s 120us/sample - loss: 0.5932 - accuracy: 0.9583 - AUC: 0.9836 - val_loss: 0.6327 - val_accuracy: 0.9167 - val_AUC: 0.9926\n",
      "Epoch 55/150\n",
      "96/96 [==============================] - 0s 114us/sample - loss: 0.5847 - accuracy: 0.9688 - AUC: 0.9838 - val_loss: 0.5597 - val_accuracy: 1.0000 - val_AUC: 1.0000\n",
      "Epoch 56/150\n",
      "96/96 [==============================] - 0s 105us/sample - loss: 0.5959 - accuracy: 0.9583 - AUC: 0.9906 - val_loss: 0.5541 - val_accuracy: 1.0000 - val_AUC: 1.0000\n",
      "Epoch 57/150\n",
      "96/96 [==============================] - 0s 129us/sample - loss: 0.5877 - accuracy: 0.9583 - AUC: 0.9984 - val_loss: 0.6031 - val_accuracy: 0.9583 - val_AUC: 0.9974\n",
      "Epoch 58/150\n",
      "96/96 [==============================] - 0s 119us/sample - loss: 0.5840 - accuracy: 0.9688 - AUC: 0.9837 - val_loss: 0.6536 - val_accuracy: 0.9167 - val_AUC: 0.9583\n",
      "Epoch 59/150\n",
      "96/96 [==============================] - 0s 106us/sample - loss: 0.6025 - accuracy: 0.9479 - AUC: 0.9755 - val_loss: 0.6469 - val_accuracy: 0.9167 - val_AUC: 0.9592\n",
      "Epoch 60/150\n",
      "96/96 [==============================] - 0s 118us/sample - loss: 0.5945 - accuracy: 0.9583 - AUC: 0.9759 - val_loss: 0.5615 - val_accuracy: 1.0000 - val_AUC: 1.0000\n",
      "Epoch 61/150\n",
      "96/96 [==============================] - 0s 135us/sample - loss: 0.5994 - accuracy: 0.9583 - AUC: 0.9903 - val_loss: 0.5590 - val_accuracy: 1.0000 - val_AUC: 1.0000\n",
      "Epoch 62/150\n",
      "96/96 [==============================] - 0s 144us/sample - loss: 0.5744 - accuracy: 0.9792 - AUC: 0.9915 - val_loss: 0.6256 - val_accuracy: 0.9167 - val_AUC: 0.9957\n",
      "Epoch 63/150\n",
      "96/96 [==============================] - 0s 130us/sample - loss: 0.5848 - accuracy: 0.9688 - AUC: 0.9837 - val_loss: 0.6574 - val_accuracy: 0.9167 - val_AUC: 0.9583\n",
      "Epoch 64/150\n",
      "96/96 [==============================] - 0s 132us/sample - loss: 0.6016 - accuracy: 0.9479 - AUC: 0.9755 - val_loss: 0.6162 - val_accuracy: 0.9167 - val_AUC: 0.9965\n",
      "Epoch 65/150\n",
      "96/96 [==============================] - 0s 125us/sample - loss: 0.5872 - accuracy: 0.9688 - AUC: 0.9837 - val_loss: 0.5544 - val_accuracy: 1.0000 - val_AUC: 1.0000\n",
      "Epoch 66/150\n",
      "96/96 [==============================] - 0s 135us/sample - loss: 0.5876 - accuracy: 0.9583 - AUC: 0.9910 - val_loss: 0.5772 - val_accuracy: 0.9583 - val_AUC: 0.9991\n",
      "Epoch 67/150\n",
      "96/96 [==============================] - 0s 130us/sample - loss: 0.5837 - accuracy: 0.9688 - AUC: 0.9913 - val_loss: 0.6590 - val_accuracy: 0.9167 - val_AUC: 0.9583\n",
      "Epoch 68/150\n",
      "96/96 [==============================] - 0s 116us/sample - loss: 0.5989 - accuracy: 0.9479 - AUC: 0.9756 - val_loss: 0.6617 - val_accuracy: 0.9167 - val_AUC: 0.9583\n",
      "Epoch 69/150\n",
      "96/96 [==============================] - 0s 133us/sample - loss: 0.5964 - accuracy: 0.9583 - AUC: 0.9756 - val_loss: 0.6231 - val_accuracy: 0.9167 - val_AUC: 0.9965\n",
      "Epoch 70/150\n",
      "96/96 [==============================] - 0s 127us/sample - loss: 0.5837 - accuracy: 0.9688 - AUC: 0.9837 - val_loss: 0.5595 - val_accuracy: 1.0000 - val_AUC: 1.0000\n",
      "Epoch 71/150\n",
      "96/96 [==============================] - 0s 134us/sample - loss: 0.5766 - accuracy: 0.9792 - AUC: 0.9914 - val_loss: 0.5535 - val_accuracy: 1.0000 - val_AUC: 1.0000\n",
      "Epoch 72/150\n",
      "96/96 [==============================] - 0s 139us/sample - loss: 0.5864 - accuracy: 0.9583 - AUC: 0.9909 - val_loss: 0.5532 - val_accuracy: 1.0000 - val_AUC: 1.0000\n",
      "Epoch 73/150\n",
      "96/96 [==============================] - 0s 131us/sample - loss: 0.5849 - accuracy: 0.9688 - AUC: 0.9912 - val_loss: 0.5686 - val_accuracy: 1.0000 - val_AUC: 1.0000\n",
      "Epoch 74/150\n",
      "96/96 [==============================] - 0s 134us/sample - loss: 0.5788 - accuracy: 0.9688 - AUC: 0.9917 - val_loss: 0.5632 - val_accuracy: 1.0000 - val_AUC: 1.0000\n",
      "Epoch 75/150\n",
      "96/96 [==============================] - 0s 128us/sample - loss: 0.5774 - accuracy: 0.9792 - AUC: 0.9916 - val_loss: 0.5530 - val_accuracy: 1.0000 - val_AUC: 1.0000\n",
      "Epoch 76/150\n",
      "96/96 [==============================] - 0s 129us/sample - loss: 0.6012 - accuracy: 0.9479 - AUC: 0.9830 - val_loss: 0.6286 - val_accuracy: 0.9167 - val_AUC: 0.9965\n",
      "Epoch 77/150\n",
      "96/96 [==============================] - 0s 111us/sample - loss: 0.6185 - accuracy: 0.9375 - AUC: 0.9585 - val_loss: 0.6348 - val_accuracy: 0.9167 - val_AUC: 0.9670\n",
      "Epoch 78/150\n",
      "96/96 [==============================] - 0s 111us/sample - loss: 0.6342 - accuracy: 0.9062 - AUC: 0.9724 - val_loss: 0.5883 - val_accuracy: 0.9583 - val_AUC: 0.9991\n",
      "Epoch 79/150\n",
      "96/96 [==============================] - 0s 112us/sample - loss: 0.5822 - accuracy: 0.9688 - AUC: 0.9841 - val_loss: 0.7871 - val_accuracy: 0.7500 - val_AUC: 0.8542\n",
      "Epoch 80/150\n",
      "96/96 [==============================] - 0s 98us/sample - loss: 0.6334 - accuracy: 0.9167 - AUC: 0.9504 - val_loss: 0.7857 - val_accuracy: 0.7500 - val_AUC: 0.8542\n",
      "Epoch 81/150\n",
      "96/96 [==============================] - 0s 120us/sample - loss: 0.6215 - accuracy: 0.9271 - AUC: 0.9662 - val_loss: 0.6238 - val_accuracy: 0.9167 - val_AUC: 0.9957\n",
      "Epoch 82/150\n",
      "96/96 [==============================] - 0s 114us/sample - loss: 0.5902 - accuracy: 0.9583 - AUC: 0.9834 - val_loss: 0.5530 - val_accuracy: 1.0000 - val_AUC: 1.0000\n",
      "Epoch 83/150\n",
      "96/96 [==============================] - 0s 104us/sample - loss: 0.5900 - accuracy: 0.9583 - AUC: 0.9910 - val_loss: 0.5539 - val_accuracy: 1.0000 - val_AUC: 1.0000\n",
      "Epoch 84/150\n",
      "96/96 [==============================] - 0s 125us/sample - loss: 0.5789 - accuracy: 0.9792 - AUC: 0.9916 - val_loss: 0.6190 - val_accuracy: 0.9167 - val_AUC: 0.9965\n",
      "Epoch 85/150\n",
      "96/96 [==============================] - 0s 115us/sample - loss: 0.5951 - accuracy: 0.9583 - AUC: 0.9834 - val_loss: 0.6326 - val_accuracy: 0.9167 - val_AUC: 0.9653\n",
      "Epoch 86/150\n",
      "96/96 [==============================] - 0s 101us/sample - loss: 0.5825 - accuracy: 0.9688 - AUC: 0.9839 - val_loss: 0.5529 - val_accuracy: 1.0000 - val_AUC: 1.0000\n",
      "Epoch 87/150\n",
      "96/96 [==============================] - 0s 121us/sample - loss: 0.5855 - accuracy: 0.9688 - AUC: 0.9989 - val_loss: 0.5925 - val_accuracy: 0.9583 - val_AUC: 0.9974\n",
      "Epoch 88/150\n",
      "96/96 [==============================] - 0s 116us/sample - loss: 0.6133 - accuracy: 0.9375 - AUC: 0.9809 - val_loss: 0.6330 - val_accuracy: 0.9167 - val_AUC: 0.9965\n",
      "Epoch 89/150\n",
      "96/96 [==============================] - 0s 97us/sample - loss: 0.6214 - accuracy: 0.9167 - AUC: 0.9802 - val_loss: 0.6242 - val_accuracy: 0.9167 - val_AUC: 0.9965\n",
      "Epoch 90/150\n",
      "96/96 [==============================] - 0s 119us/sample - loss: 0.5965 - accuracy: 0.9583 - AUC: 0.9831 - val_loss: 0.8788 - val_accuracy: 0.6667 - val_AUC: 0.8203\n",
      "Epoch 91/150\n",
      "96/96 [==============================] - 0s 107us/sample - loss: 0.6812 - accuracy: 0.8646 - AUC: 0.9307 - val_loss: 0.8852 - val_accuracy: 0.6667 - val_AUC: 0.7665\n",
      "Epoch 92/150\n",
      "96/96 [==============================] - 0s 114us/sample - loss: 0.6904 - accuracy: 0.8542 - AUC: 0.9168 - val_loss: 0.7821 - val_accuracy: 0.7500 - val_AUC: 0.8785\n",
      "Epoch 93/150\n"
     ]
    },
    {
     "name": "stdout",
     "output_type": "stream",
     "text": [
      "96/96 [==============================] - 0s 130us/sample - loss: 0.6233 - accuracy: 0.9271 - AUC: 0.9514 - val_loss: 0.6065 - val_accuracy: 0.9583 - val_AUC: 0.9974\n",
      "Epoch 94/150\n",
      "96/96 [==============================] - 0s 121us/sample - loss: 0.5891 - accuracy: 0.9583 - AUC: 0.9914 - val_loss: 0.5561 - val_accuracy: 1.0000 - val_AUC: 1.0000\n",
      "Epoch 95/150\n",
      "96/96 [==============================] - 0s 124us/sample - loss: 0.6023 - accuracy: 0.9479 - AUC: 0.9976 - val_loss: 0.5684 - val_accuracy: 1.0000 - val_AUC: 1.0000\n",
      "Epoch 96/150\n",
      "96/96 [==============================] - 0s 124us/sample - loss: 0.6013 - accuracy: 0.9375 - AUC: 0.9899 - val_loss: 0.5593 - val_accuracy: 1.0000 - val_AUC: 1.0000\n",
      "Epoch 97/150\n",
      "96/96 [==============================] - 0s 137us/sample - loss: 0.5873 - accuracy: 0.9688 - AUC: 0.9837 - val_loss: 0.6747 - val_accuracy: 0.8750 - val_AUC: 0.9557\n",
      "Epoch 98/150\n",
      "96/96 [==============================] - 0s 137us/sample - loss: 0.6031 - accuracy: 0.9479 - AUC: 0.9752 - val_loss: 0.7500 - val_accuracy: 0.7917 - val_AUC: 0.9141\n",
      "Epoch 99/150\n",
      "96/96 [==============================] - 0s 128us/sample - loss: 0.6204 - accuracy: 0.9375 - AUC: 0.9733 - val_loss: 0.6845 - val_accuracy: 0.8333 - val_AUC: 0.9792\n",
      "Epoch 100/150\n",
      "96/96 [==============================] - 0s 119us/sample - loss: 0.5964 - accuracy: 0.9479 - AUC: 0.9833 - val_loss: 0.5722 - val_accuracy: 0.9583 - val_AUC: 0.9991\n",
      "Epoch 101/150\n",
      "96/96 [==============================] - 0s 121us/sample - loss: 0.5816 - accuracy: 0.9792 - AUC: 0.9989 - val_loss: 0.5796 - val_accuracy: 1.0000 - val_AUC: 1.0000\n",
      "Epoch 102/150\n",
      "96/96 [==============================] - 0s 125us/sample - loss: 0.6074 - accuracy: 0.9375 - AUC: 0.9884 - val_loss: 0.5826 - val_accuracy: 0.9583 - val_AUC: 0.9991\n",
      "Epoch 103/150\n",
      "96/96 [==============================] - 0s 133us/sample - loss: 0.6106 - accuracy: 0.9271 - AUC: 0.9959 - val_loss: 0.5603 - val_accuracy: 1.0000 - val_AUC: 1.0000\n",
      "Epoch 104/150\n",
      "96/96 [==============================] - 0s 133us/sample - loss: 0.5774 - accuracy: 0.9792 - AUC: 0.9988 - val_loss: 0.6091 - val_accuracy: 0.9167 - val_AUC: 0.9965\n",
      "Epoch 105/150\n",
      "96/96 [==============================] - 0s 123us/sample - loss: 0.5871 - accuracy: 0.9583 - AUC: 0.9836 - val_loss: 0.6346 - val_accuracy: 0.9167 - val_AUC: 0.9896\n",
      "Epoch 106/150\n",
      "96/96 [==============================] - 0s 142us/sample - loss: 0.5905 - accuracy: 0.9583 - AUC: 0.9834 - val_loss: 0.6083 - val_accuracy: 0.9167 - val_AUC: 0.9965\n",
      "Epoch 107/150\n",
      "96/96 [==============================] - 0s 134us/sample - loss: 0.5819 - accuracy: 0.9688 - AUC: 0.9837 - val_loss: 0.5719 - val_accuracy: 0.9583 - val_AUC: 0.9991\n",
      "Epoch 108/150\n",
      "96/96 [==============================] - 0s 133us/sample - loss: 0.5829 - accuracy: 0.9688 - AUC: 0.9911 - val_loss: 0.5587 - val_accuracy: 1.0000 - val_AUC: 1.0000\n",
      "Epoch 109/150\n",
      "96/96 [==============================] - 0s 135us/sample - loss: 0.5805 - accuracy: 0.9688 - AUC: 0.9914 - val_loss: 0.5746 - val_accuracy: 0.9583 - val_AUC: 0.9991\n",
      "Epoch 110/150\n",
      "96/96 [==============================] - 0s 117us/sample - loss: 0.5806 - accuracy: 0.9688 - AUC: 0.9914 - val_loss: 0.6042 - val_accuracy: 0.9167 - val_AUC: 0.9965\n",
      "Epoch 111/150\n",
      "96/96 [==============================] - 0s 148us/sample - loss: 0.5822 - accuracy: 0.9688 - AUC: 0.9839 - val_loss: 0.5943 - val_accuracy: 0.9583 - val_AUC: 0.9974\n",
      "Epoch 112/150\n",
      "96/96 [==============================] - 0s 133us/sample - loss: 0.5786 - accuracy: 0.9688 - AUC: 0.9914 - val_loss: 0.5617 - val_accuracy: 1.0000 - val_AUC: 1.0000\n",
      "Epoch 113/150\n",
      "96/96 [==============================] - 0s 121us/sample - loss: 0.5829 - accuracy: 0.9688 - AUC: 0.9914 - val_loss: 0.5557 - val_accuracy: 1.0000 - val_AUC: 1.0000\n",
      "Epoch 114/150\n",
      "96/96 [==============================] - 0s 125us/sample - loss: 0.5862 - accuracy: 0.9688 - AUC: 0.9910 - val_loss: 0.5761 - val_accuracy: 0.9583 - val_AUC: 0.9991\n",
      "Epoch 115/150\n",
      "96/96 [==============================] - 0s 129us/sample - loss: 0.5786 - accuracy: 0.9792 - AUC: 0.9913 - val_loss: 0.5894 - val_accuracy: 0.9583 - val_AUC: 0.9974\n",
      "Epoch 116/150\n",
      "96/96 [==============================] - 0s 126us/sample - loss: 0.5790 - accuracy: 0.9688 - AUC: 0.9839 - val_loss: 0.6017 - val_accuracy: 0.9583 - val_AUC: 0.9974\n",
      "Epoch 117/150\n",
      "96/96 [==============================] - 0s 141us/sample - loss: 0.5806 - accuracy: 0.9688 - AUC: 0.9840 - val_loss: 0.5945 - val_accuracy: 0.9583 - val_AUC: 0.9974\n",
      "Epoch 118/150\n",
      "96/96 [==============================] - 0s 128us/sample - loss: 0.5791 - accuracy: 0.9688 - AUC: 0.9839 - val_loss: 0.5681 - val_accuracy: 1.0000 - val_AUC: 1.0000\n",
      "Epoch 119/150\n",
      "96/96 [==============================] - 0s 113us/sample - loss: 0.5777 - accuracy: 0.9792 - AUC: 0.9913 - val_loss: 0.5538 - val_accuracy: 1.0000 - val_AUC: 1.0000\n",
      "Epoch 120/150\n",
      "96/96 [==============================] - 0s 122us/sample - loss: 0.5866 - accuracy: 0.9583 - AUC: 0.9913 - val_loss: 0.5594 - val_accuracy: 1.0000 - val_AUC: 1.0000\n",
      "Epoch 121/150\n",
      "96/96 [==============================] - 0s 113us/sample - loss: 0.5770 - accuracy: 0.9792 - AUC: 0.9838 - val_loss: 0.6069 - val_accuracy: 0.9583 - val_AUC: 0.9974\n",
      "Epoch 122/150\n",
      "96/96 [==============================] - 0s 107us/sample - loss: 0.5823 - accuracy: 0.9688 - AUC: 0.9839 - val_loss: 0.6331 - val_accuracy: 0.9167 - val_AUC: 0.9653\n",
      "Epoch 123/150\n",
      "96/96 [==============================] - 0s 123us/sample - loss: 0.5851 - accuracy: 0.9688 - AUC: 0.9836 - val_loss: 0.6301 - val_accuracy: 0.9167 - val_AUC: 0.9661\n",
      "Epoch 124/150\n",
      "96/96 [==============================] - 0s 120us/sample - loss: 0.5835 - accuracy: 0.9688 - AUC: 0.9839 - val_loss: 0.6156 - val_accuracy: 0.9167 - val_AUC: 0.9965\n",
      "Epoch 125/150\n",
      "96/96 [==============================] - 0s 103us/sample - loss: 0.5827 - accuracy: 0.9688 - AUC: 0.9841 - val_loss: 0.5864 - val_accuracy: 0.9583 - val_AUC: 0.9991\n",
      "Epoch 126/150\n",
      "96/96 [==============================] - 0s 123us/sample - loss: 0.5752 - accuracy: 0.9792 - AUC: 0.9840 - val_loss: 0.5735 - val_accuracy: 0.9583 - val_AUC: 0.9991\n",
      "Epoch 127/150\n",
      "96/96 [==============================] - 0s 112us/sample - loss: 0.5767 - accuracy: 0.9792 - AUC: 0.9842 - val_loss: 0.5586 - val_accuracy: 1.0000 - val_AUC: 1.0000\n",
      "Epoch 128/150\n",
      "96/96 [==============================] - 0s 101us/sample - loss: 0.5829 - accuracy: 0.9688 - AUC: 0.9916 - val_loss: 0.5522 - val_accuracy: 1.0000 - val_AUC: 1.0000\n",
      "Epoch 129/150\n",
      "96/96 [==============================] - 0s 121us/sample - loss: 0.5908 - accuracy: 0.9583 - AUC: 0.9912 - val_loss: 0.5702 - val_accuracy: 0.9583 - val_AUC: 0.9991\n",
      "Epoch 130/150\n",
      "96/96 [==============================] - 0s 108us/sample - loss: 0.5748 - accuracy: 0.9792 - AUC: 0.9840 - val_loss: 0.6349 - val_accuracy: 0.9167 - val_AUC: 0.9661\n",
      "Epoch 131/150\n",
      "96/96 [==============================] - 0s 167us/sample - loss: 0.5858 - accuracy: 0.9688 - AUC: 0.9762 - val_loss: 0.6354 - val_accuracy: 0.9167 - val_AUC: 0.9349\n",
      "Epoch 132/150\n",
      "96/96 [==============================] - 0s 110us/sample - loss: 0.5852 - accuracy: 0.9688 - AUC: 0.9762 - val_loss: 0.5896 - val_accuracy: 0.9583 - val_AUC: 0.9991\n",
      "Epoch 133/150\n",
      "96/96 [==============================] - 0s 122us/sample - loss: 0.5803 - accuracy: 0.9688 - AUC: 0.9840 - val_loss: 0.5600 - val_accuracy: 1.0000 - val_AUC: 1.0000\n",
      "Epoch 134/150\n",
      "96/96 [==============================] - 0s 126us/sample - loss: 0.5855 - accuracy: 0.9688 - AUC: 0.9839 - val_loss: 0.6361 - val_accuracy: 0.9167 - val_AUC: 0.9340\n",
      "Epoch 135/150\n",
      "96/96 [==============================] - 0s 116us/sample - loss: 0.5895 - accuracy: 0.9583 - AUC: 0.9760 - val_loss: 0.6357 - val_accuracy: 0.9167 - val_AUC: 0.9340\n",
      "Epoch 136/150\n",
      "96/96 [==============================] - 0s 120us/sample - loss: 0.5881 - accuracy: 0.9583 - AUC: 0.9837 - val_loss: 0.5820 - val_accuracy: 0.9583 - val_AUC: 0.9991\n",
      "Epoch 137/150\n",
      "96/96 [==============================] - 0s 129us/sample - loss: 0.5730 - accuracy: 0.9792 - AUC: 0.9842 - val_loss: 0.5520 - val_accuracy: 1.0000 - val_AUC: 1.0000\n",
      "Epoch 138/150\n",
      "96/96 [==============================] - 0s 114us/sample - loss: 0.5908 - accuracy: 0.9583 - AUC: 0.9833 - val_loss: 0.5524 - val_accuracy: 1.0000 - val_AUC: 1.0000\n"
     ]
    },
    {
     "name": "stdout",
     "output_type": "stream",
     "text": [
      "Epoch 139/150\n",
      "96/96 [==============================] - 0s 108us/sample - loss: 0.5925 - accuracy: 0.9583 - AUC: 0.9833 - val_loss: 0.5561 - val_accuracy: 1.0000 - val_AUC: 1.0000\n",
      "Epoch 140/150\n",
      "96/96 [==============================] - 0s 132us/sample - loss: 0.5744 - accuracy: 0.9792 - AUC: 0.9842 - val_loss: 0.6550 - val_accuracy: 0.9167 - val_AUC: 0.9323\n",
      "Epoch 141/150\n",
      "96/96 [==============================] - 0s 119us/sample - loss: 0.6025 - accuracy: 0.9479 - AUC: 0.9756 - val_loss: 0.6107 - val_accuracy: 0.9167 - val_AUC: 0.9965\n",
      "Epoch 142/150\n",
      "96/96 [==============================] - 0s 111us/sample - loss: 0.5830 - accuracy: 0.9688 - AUC: 0.9842 - val_loss: 0.5520 - val_accuracy: 1.0000 - val_AUC: 1.0000\n",
      "Epoch 143/150\n",
      "96/96 [==============================] - 0s 117us/sample - loss: 0.5888 - accuracy: 0.9583 - AUC: 0.9836 - val_loss: 0.6044 - val_accuracy: 0.9583 - val_AUC: 0.9974\n",
      "Epoch 144/150\n",
      "96/96 [==============================] - 0s 114us/sample - loss: 0.6211 - accuracy: 0.9271 - AUC: 0.9521 - val_loss: 0.7457 - val_accuracy: 0.7917 - val_AUC: 0.8950\n",
      "Epoch 145/150\n",
      "96/96 [==============================] - 0s 106us/sample - loss: 0.8182 - accuracy: 0.7292 - AUC: 0.8333 - val_loss: 0.6783 - val_accuracy: 0.8750 - val_AUC: 0.9280\n",
      "Epoch 146/150\n",
      "96/96 [==============================] - 0s 107us/sample - loss: 0.6936 - accuracy: 0.8542 - AUC: 0.9178 - val_loss: 0.6360 - val_accuracy: 0.9167 - val_AUC: 0.9340\n",
      "Epoch 147/150\n",
      "96/96 [==============================] - 0s 111us/sample - loss: 0.6267 - accuracy: 0.9271 - AUC: 0.9520 - val_loss: 0.8843 - val_accuracy: 0.6667 - val_AUC: 0.7743\n",
      "Epoch 148/150\n",
      "96/96 [==============================] - 0s 118us/sample - loss: 0.6846 - accuracy: 0.8646 - AUC: 0.9182 - val_loss: 0.8783 - val_accuracy: 0.6667 - val_AUC: 0.7934\n",
      "Epoch 149/150\n",
      "96/96 [==============================] - 0s 107us/sample - loss: 0.6604 - accuracy: 0.8854 - AUC: 0.9346 - val_loss: 0.7380 - val_accuracy: 0.7917 - val_AUC: 0.9227\n",
      "Epoch 150/150\n",
      "96/96 [==============================] - 0s 118us/sample - loss: 0.6037 - accuracy: 0.9479 - AUC: 0.9755 - val_loss: 0.5952 - val_accuracy: 0.9583 - val_AUC: 0.9974\n"
     ]
    },
    {
     "data": {
      "text/plain": [
       "<tensorflow.python.keras.callbacks.History at 0x7f4024654410>"
      ]
     },
     "execution_count": 13,
     "metadata": {},
     "output_type": "execute_result"
    }
   ],
   "source": [
    "callback = [tf.keras.callbacks.EarlyStopping(monitor='val_loss',\n",
    "                                             min_delta=1e-2,\n",
    "                                             patience=5,\n",
    "                                             verbose=1e-2)]\n",
    "model.fit(x = trainX,y = trainY, epochs= 150, batch_size = 64, validation_split= 0.2)"
   ]
  },
  {
   "cell_type": "code",
   "execution_count": 14,
   "metadata": {},
   "outputs": [
    {
     "name": "stdout",
     "output_type": "stream",
     "text": [
      "              precision    recall  f1-score   support\n",
      "\n",
      "           0       1.00      1.00      1.00         9\n",
      "           1       1.00      1.00      1.00        12\n",
      "           2       1.00      1.00      1.00         9\n",
      "\n",
      "    accuracy                           1.00        30\n",
      "   macro avg       1.00      1.00      1.00        30\n",
      "weighted avg       1.00      1.00      1.00        30\n",
      "\n",
      "[[ 9  0  0]\n",
      " [ 0 12  0]\n",
      " [ 0  0  9]]\n"
     ]
    }
   ],
   "source": [
    "y_pred = model.predict(testX)\n",
    "y_test_class = np.argmax(testY,axis=1)\n",
    "y_pred_class = np.argmax(y_pred,axis=1)\n",
    "from sklearn.metrics import classification_report,confusion_matrix\n",
    "print(classification_report(y_test_class,y_pred_class))\n",
    "print(confusion_matrix(y_test_class,y_pred_class))"
   ]
  },
  {
   "cell_type": "code",
   "execution_count": null,
   "metadata": {},
   "outputs": [],
   "source": []
  }
 ],
 "metadata": {
  "kernelspec": {
   "display_name": "Python 3",
   "language": "python",
   "name": "python3"
  },
  "language_info": {
   "codemirror_mode": {
    "name": "ipython",
    "version": 3
   },
   "file_extension": ".py",
   "mimetype": "text/x-python",
   "name": "python",
   "nbconvert_exporter": "python",
   "pygments_lexer": "ipython3",
   "version": "3.7.7"
  }
 },
 "nbformat": 4,
 "nbformat_minor": 4
}
