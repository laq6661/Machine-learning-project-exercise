{
 "cells": [
  {
   "cell_type": "code",
   "execution_count": 1,
   "metadata": {},
   "outputs": [],
   "source": [
    "import numpy as np\n",
    "import pandas as pd\n",
    "import matplotlib.pyplot as plt\n",
    "import tensorflow as tf\n",
    "from tensorflow.keras import layers\n",
    "from sklearn.model_selection import train_test_split\n",
    "from sklearn.datasets import fetch_openml\n",
    "from sklearn.utils import check_random_state\n",
    "from sklearn.preprocessing import StandardScaler\n",
    "from sklearn.preprocessing import LabelEncoder"
   ]
  },
  {
   "cell_type": "code",
   "execution_count": 2,
   "metadata": {},
   "outputs": [
    {
     "name": "stdout",
     "output_type": "stream",
     "text": [
      "[PhysicalDevice(name='/physical_device:GPU:0', device_type='GPU')]\n"
     ]
    }
   ],
   "source": [
    "import os\n",
    "os.environ[\"CUDA_DEVICE_ORDER\"]=\"PCI_BUS_ID\"\n",
    "# The GPU id to use, usually either \"0\" or \"1\"\n",
    "os.environ[\"CUDA_VISIBLE_DEVICES\"] = \"0\"   \n",
    "gpus = tf.config.experimental.list_physical_devices(device_type='GPU')\n",
    "print(gpus)\n",
    "for gpu in gpus:\n",
    "    tf.config.experimental.set_memory_growth(gpu,True)#动态分配gpu别让tf一下占满"
   ]
  },
  {
   "cell_type": "markdown",
   "metadata": {},
   "source": [
    "获取并打乱数据集"
   ]
  },
  {
   "cell_type": "code",
   "execution_count": 3,
   "metadata": {},
   "outputs": [],
   "source": [
    "X,Y = fetch_openml('mnist_784',version = 1,return_X_y= True)"
   ]
  },
  {
   "cell_type": "code",
   "execution_count": 4,
   "metadata": {},
   "outputs": [
    {
     "name": "stdout",
     "output_type": "stream",
     "text": [
      "(70000, 784)\n",
      "(70000, 784)\n",
      "(784,)\n"
     ]
    },
    {
     "data": {
      "text/plain": [
       "70000"
      ]
     },
     "execution_count": 4,
     "metadata": {},
     "output_type": "execute_result"
    }
   ],
   "source": [
    "print(np.shape(X))#稍微注意两种用法\n",
    "print(X.shape)\n",
    "print(np.shape(X[0]))#稍微注意两种用法的区别\n",
    "X.shape[0]"
   ]
  },
  {
   "cell_type": "code",
   "execution_count": 5,
   "metadata": {},
   "outputs": [],
   "source": [
    "random_state = check_random_state(233)\n",
    "p = random_state.permutation(X.shape[0])\n",
    "X = X[p]\n",
    "Y = Y[p]"
   ]
  },
  {
   "cell_type": "markdown",
   "metadata": {},
   "source": [
    "数据集分割标准化 输出样例"
   ]
  },
  {
   "cell_type": "code",
   "execution_count": 6,
   "metadata": {},
   "outputs": [],
   "source": [
    "train_sample = 20000\n",
    "test_sample = 10000\n",
    "trainX,testX,trainY,testY = train_test_split(X,Y,train_size =train_sample, test_size = test_sample )"
   ]
  },
  {
   "cell_type": "code",
   "execution_count": 7,
   "metadata": {},
   "outputs": [],
   "source": [
    "scaler = StandardScaler()\n",
    "trainX = scaler.fit_transform(trainX)\n",
    "testX = scaler.fit_transform(testX)"
   ]
  },
  {
   "cell_type": "code",
   "execution_count": 8,
   "metadata": {},
   "outputs": [
    {
     "data": {
      "image/png": "[encoded data removed]",
      "text/plain": [
       "<Figure size 1440x720 with 4 Axes>"
      ]
     },
     "metadata": {},
     "output_type": "display_data"
    }
   ],
   "source": [
    "plt.figure(figsize=(20,10))\n",
    "for i in range(4):\n",
    "    pl1 = plt.subplot(2,2,i+1)\n",
    "    pl1.imshow(trainX[i].reshape(28,28),interpolation = 'nearest',\n",
    "              vmin = -1,vmax = 1,cmap = 'gray')\n",
    "    pl1.set_xticks(())\n",
    "    pl1.set_yticks(())\n",
    "    pl1.set_xlabel('Class %i'%i,fontsize = 20)\n",
    "plt.suptitle(\"data example origin\",fontsize =20)\n",
    "plt.show()"
   ]
  },
  {
   "cell_type": "code",
   "execution_count": 9,
   "metadata": {},
   "outputs": [
    {
     "name": "stdout",
     "output_type": "stream",
     "text": [
      "(20000, 28, 28, 1)\n",
      "(20000,)\n",
      "(10000, 28, 28, 1)\n",
      "(10000,)\n",
      "['3' '2' '4' '1' '7' '9' '7' '0' '3' '4']\n"
     ]
    }
   ],
   "source": [
    "trainX = trainX.reshape(-1,28,28,1)\n",
    "testX = testX.reshape(-1,28,28,1)\n",
    "print(trainX.shape)\n",
    "print(trainY.shape)\n",
    "print(testX.shape)\n",
    "print(testY.shape)\n",
    "print(trainY[:10])"
   ]
  },
  {
   "cell_type": "code",
   "execution_count": 10,
   "metadata": {},
   "outputs": [
    {
     "name": "stdout",
     "output_type": "stream",
     "text": [
      "['0', '1', '2', '3', '4', '5', '6', '7', '8', '9']\n",
      "['3' '2' '4' '1' '7' '9' '7' '0' '3' '4' '8' '5' '5' '6' '6' '9' '2' '7'\n",
      " '9' '5' '5' '4' '3' '4' '7' '9' '6' '7' '7' '0' '9' '0' '8' '4' '6' '8'\n",
      " '7' '0' '7' '8' '4' '2' '2' '3' '3' '1' '5' '8' '5' '8' '2' '1' '9' '7'\n",
      " '3' '7' '6' '4' '0' '2' '8' '0' '2' '3' '6' '5' '2' '9' '4' '1' '9' '8'\n",
      " '4' '8' '1' '7' '5' '7' '6' '0' '1' '3' '0' '6' '8' '5' '0' '6' '0' '0'\n",
      " '4' '9' '2' '3' '7' '7' '1' '6' '1' '7']\n",
      "(20000, 10)\n"
     ]
    }
   ],
   "source": [
    "le = LabelEncoder().fit(trainY)\n",
    "print(list(le.classes_))\n",
    "print(trainY[0:100])\n",
    "trainY = tf.keras.utils.to_categorical(le.transform(trainY), 10)  # 2是num_class表示输出的是2列数据的意思\n",
    "print(trainY.shape)"
   ]
  },
  {
   "cell_type": "code",
   "execution_count": 11,
   "metadata": {},
   "outputs": [
    {
     "name": "stdout",
     "output_type": "stream",
     "text": [
      "[[0. 1. 0. 0. 0. 0. 0. 0. 0. 0.]\n",
      " [0. 0. 0. 0. 0. 1. 0. 0. 0. 0.]\n",
      " [1. 0. 0. 0. 0. 0. 0. 0. 0. 0.]\n",
      " [1. 0. 0. 0. 0. 0. 0. 0. 0. 0.]\n",
      " [0. 0. 0. 0. 0. 0. 0. 0. 0. 1.]]\n"
     ]
    }
   ],
   "source": [
    "testY = tf.keras.utils.to_categorical(le.transform(testY), 10)\n",
    "print(testY[0:5])"
   ]
  },
  {
   "cell_type": "code",
   "execution_count": 12,
   "metadata": {},
   "outputs": [],
   "source": [
    "index = [i for i in range(len(trainX))]\n",
    "np.random.seed(43)#43 控制shuffle打乱次序为43号\n",
    "np.random.shuffle(index)\n",
    "trainX = trainX[index]\n",
    "trainY = trainY[index]"
   ]
  },
  {
   "cell_type": "code",
   "execution_count": 13,
   "metadata": {},
   "outputs": [],
   "source": [
    "index = [i for i in range(len(testX))]\n",
    "np.random.seed(42)\n",
    "np.random.shuffle(index)\n",
    "testX = testX[index]\n",
    "testY = testY[index]"
   ]
  },
  {
   "cell_type": "code",
   "execution_count": 14,
   "metadata": {},
   "outputs": [],
   "source": [
    "def VGG(nb_classes, input_shape):\n",
    "    input_tensor = layers.Input(shape=input_shape)\n",
    "    # 1st block\n",
    "    x = layers.Conv2D(32, (3,3), activation='relu', padding='same',name='conv1a')(input_tensor)\n",
    "    x = layers.MaxPooling2D((2,2), strides=None, name = 'pool1')(x)\n",
    "   \n",
    "    # 3rd block\n",
    "    # 5th block\n",
    "#     x = layers.Conv2D(256, (3,3), activation='relu', padding='same',name='conv5a')(x)\n",
    "#     x = layers.Conv2D(256, (3,3), activation='relu', padding='same',name='conv5b')(x)\n",
    "#     x = layers.Conv2D(256, (3,3), activation='relu', padding='same',name='conv5c')(x)\n",
    "#     x = layers.Conv2D(256, (3,3), activation='relu', padding='same',name='conv5d')(x)\n",
    "#     x = layers.MaxPooling2D((2,2), strides=None, name = 'pool5')(x)\n",
    "    # full connection\n",
    "    x = layers.Flatten()(x)\n",
    "    x = layers.Dense(512, activation='relu',  name='fc6')(x)\n",
    "    x = layers.Dropout(0.5)(x)\n",
    "    x = layers.Dense(256, activation='relu', name='fc7')(x)\n",
    "    x = layers.Dropout(0.5)(x)\n",
    "    output_tensor = layers.Dense(nb_classes, activation='softmax', name='fc8')(x)\n",
    "    base_model = tf.keras.Model(input_tensor,output_tensor)\n",
    "    return base_model"
   ]
  },
  {
   "cell_type": "code",
   "execution_count": 15,
   "metadata": {},
   "outputs": [
    {
     "name": "stdout",
     "output_type": "stream",
     "text": [
      "Model: \"model\"\n",
      "_________________________________________________________________\n",
      "Layer (type)                 Output Shape              Param #   \n",
      "=================================================================\n",
      "input_1 (InputLayer)         [(None, 28, 28, 1)]       0         \n",
      "_________________________________________________________________\n",
      "conv1a (Conv2D)              (None, 28, 28, 32)        320       \n",
      "_________________________________________________________________\n",
      "pool1 (MaxPooling2D)         (None, 14, 14, 32)        0         \n",
      "_________________________________________________________________\n",
      "flatten (Flatten)            (None, 6272)              0         \n",
      "_________________________________________________________________\n",
      "fc6 (Dense)                  (None, 512)               3211776   \n",
      "_________________________________________________________________\n",
      "dropout (Dropout)            (None, 512)               0         \n",
      "_________________________________________________________________\n",
      "fc7 (Dense)                  (None, 256)               131328    \n",
      "_________________________________________________________________\n",
      "dropout_1 (Dropout)          (None, 256)               0         \n",
      "_________________________________________________________________\n",
      "fc8 (Dense)                  (None, 10)                2570      \n",
      "=================================================================\n",
      "Total params: 3,345,994\n",
      "Trainable params: 3,345,994\n",
      "Non-trainable params: 0\n",
      "_________________________________________________________________\n"
     ]
    }
   ],
   "source": [
    "base_model=VGG(len(trainY[-1]), trainX[0].shape)\n",
    "base_model.summary()"
   ]
  },
  {
   "cell_type": "code",
   "execution_count": 16,
   "metadata": {},
   "outputs": [],
   "source": [
    "adam = tf.keras.optimizers.Adam(lr=0.001, beta_1=0.9, beta_2=0.999, epsilon=None, decay=0.0, amsgrad=False)\n",
    "base_model.compile(loss = \"binary_crossentropy\", optimizer = adam, metrics = [\"accuracy\",\"AUC\"])"
   ]
  },
  {
   "cell_type": "code",
   "execution_count": 17,
   "metadata": {},
   "outputs": [],
   "source": [
    "# class LossHistory(tf.keras.callbacks.Callback):\n",
    "#     def on_train_begin(self, logs={}):\n",
    "#         self.losses = []\n",
    "#         self.lr = []\n",
    "        \n",
    "#     def on_epoch_end(self, batch, logs={}):\n",
    "#         self.losses.append(logs.get('loss'))\n",
    "#         self.lr.append(step_decay(len(self.losses)))\n",
    "#         print('lr:', step_decay(len(self.losses)))\n",
    "# def step_decay(epoch):\n",
    "#     init_lrate = 0.001#初始学习率定为0.1（较高）\n",
    "#     drop = 0.5#学习率降低50%\n",
    "#     epochs_drop = 100#没10个epochs降低一次\n",
    "#     lrate = init_lrate * pow(drop, math.floor(1 + epoch) / epochs_drop)\n",
    "#     return lrate\n",
    "# loss_history = LossHistory()\n",
    "# lrate = LearningRateScheduler(step_decay)\n",
    "\n",
    "\n",
    "# plateau = tf.keras.callbacks.ReduceLROnPlateau(monitor='val_loss',\n",
    "#                             verbose=0,\n",
    "#                             mode='min',\n",
    "#                             factor=0.7,\n",
    "#                             patience=5)\n",
    "\n",
    "early_stopping = tf.keras.callbacks.EarlyStopping(monitor='loss',\n",
    "                               verbose=0,\n",
    "                               mode='min',\n",
    "                               patience=50)\n",
    "\n",
    "callbacks_list = [early_stopping]"
   ]
  },
  {
   "cell_type": "code",
   "execution_count": 18,
   "metadata": {},
   "outputs": [
    {
     "name": "stdout",
     "output_type": "stream",
     "text": [
      "Train on 20000 samples, validate on 10000 samples\n",
      "Epoch 1/100\n",
      "20000/20000 - 3s - loss: 0.0845 - accuracy: 0.9713 - AUC: 0.9821 - val_loss: 0.0331 - val_accuracy: 0.9896 - val_AUC: 0.9955\n",
      "Epoch 2/100\n",
      "20000/20000 - 1s - loss: 0.0386 - accuracy: 0.9883 - AUC: 0.9938 - val_loss: 0.0279 - val_accuracy: 0.9918 - val_AUC: 0.9963\n",
      "Epoch 3/100\n",
      "20000/20000 - 1s - loss: 0.0308 - accuracy: 0.9910 - AUC: 0.9956 - val_loss: 0.0251 - val_accuracy: 0.9925 - val_AUC: 0.9968\n",
      "Epoch 4/100\n",
      "20000/20000 - 1s - loss: 0.0237 - accuracy: 0.9933 - AUC: 0.9969 - val_loss: 0.0211 - val_accuracy: 0.9941 - val_AUC: 0.9972\n",
      "Epoch 5/100\n",
      "20000/20000 - 1s - loss: 0.0211 - accuracy: 0.9942 - AUC: 0.9972 - val_loss: 0.0205 - val_accuracy: 0.9943 - val_AUC: 0.9968\n",
      "Epoch 6/100\n",
      "20000/20000 - 1s - loss: 0.0189 - accuracy: 0.9950 - AUC: 0.9977 - val_loss: 0.0209 - val_accuracy: 0.9946 - val_AUC: 0.9966\n",
      "Epoch 7/100\n",
      "20000/20000 - 1s - loss: 0.0161 - accuracy: 0.9953 - AUC: 0.9980 - val_loss: 0.0222 - val_accuracy: 0.9947 - val_AUC: 0.9965\n",
      "Epoch 8/100\n",
      "20000/20000 - 1s - loss: 0.0162 - accuracy: 0.9956 - AUC: 0.9981 - val_loss: 0.0209 - val_accuracy: 0.9949 - val_AUC: 0.9966\n",
      "Epoch 9/100\n",
      "20000/20000 - 1s - loss: 0.0160 - accuracy: 0.9959 - AUC: 0.9980 - val_loss: 0.0226 - val_accuracy: 0.9950 - val_AUC: 0.9963\n",
      "Epoch 10/100\n",
      "20000/20000 - 1s - loss: 0.0132 - accuracy: 0.9968 - AUC: 0.9982 - val_loss: 0.0218 - val_accuracy: 0.9953 - val_AUC: 0.9960\n",
      "Epoch 11/100\n",
      "20000/20000 - 1s - loss: 0.0133 - accuracy: 0.9964 - AUC: 0.9984 - val_loss: 0.0244 - val_accuracy: 0.9946 - val_AUC: 0.9955\n",
      "Epoch 12/100\n",
      "20000/20000 - 1s - loss: 0.0131 - accuracy: 0.9967 - AUC: 0.9983 - val_loss: 0.0215 - val_accuracy: 0.9951 - val_AUC: 0.9962\n",
      "Epoch 13/100\n",
      "20000/20000 - 1s - loss: 0.0106 - accuracy: 0.9973 - AUC: 0.9988 - val_loss: 0.0219 - val_accuracy: 0.9955 - val_AUC: 0.9959\n",
      "Epoch 14/100\n",
      "20000/20000 - 1s - loss: 0.0109 - accuracy: 0.9973 - AUC: 0.9987 - val_loss: 0.0264 - val_accuracy: 0.9948 - val_AUC: 0.9955\n",
      "Epoch 15/100\n",
      "20000/20000 - 1s - loss: 0.0112 - accuracy: 0.9974 - AUC: 0.9985 - val_loss: 0.0252 - val_accuracy: 0.9949 - val_AUC: 0.9951\n",
      "Epoch 16/100\n",
      "20000/20000 - 1s - loss: 0.0105 - accuracy: 0.9975 - AUC: 0.9984 - val_loss: 0.0242 - val_accuracy: 0.9951 - val_AUC: 0.9956\n",
      "Epoch 17/100\n",
      "20000/20000 - 1s - loss: 0.0097 - accuracy: 0.9978 - AUC: 0.9988 - val_loss: 0.0243 - val_accuracy: 0.9954 - val_AUC: 0.9951\n",
      "Epoch 18/100\n",
      "20000/20000 - 1s - loss: 0.0088 - accuracy: 0.9979 - AUC: 0.9989 - val_loss: 0.0262 - val_accuracy: 0.9952 - val_AUC: 0.9944\n",
      "Epoch 19/100\n",
      "20000/20000 - 1s - loss: 0.0085 - accuracy: 0.9979 - AUC: 0.9991 - val_loss: 0.0278 - val_accuracy: 0.9949 - val_AUC: 0.9945\n",
      "Epoch 20/100\n",
      "20000/20000 - 1s - loss: 0.0091 - accuracy: 0.9978 - AUC: 0.9989 - val_loss: 0.0251 - val_accuracy: 0.9954 - val_AUC: 0.9950\n",
      "Epoch 21/100\n",
      "20000/20000 - 1s - loss: 0.0093 - accuracy: 0.9980 - AUC: 0.9987 - val_loss: 0.0289 - val_accuracy: 0.9953 - val_AUC: 0.9940\n",
      "Epoch 22/100\n",
      "20000/20000 - 1s - loss: 0.0075 - accuracy: 0.9982 - AUC: 0.9990 - val_loss: 0.0268 - val_accuracy: 0.9953 - val_AUC: 0.9945\n",
      "Epoch 23/100\n",
      "20000/20000 - 1s - loss: 0.0085 - accuracy: 0.9982 - AUC: 0.9988 - val_loss: 0.0278 - val_accuracy: 0.9947 - val_AUC: 0.9942\n",
      "Epoch 24/100\n",
      "20000/20000 - 1s - loss: 0.0073 - accuracy: 0.9987 - AUC: 0.9990 - val_loss: 0.0269 - val_accuracy: 0.9956 - val_AUC: 0.9944\n",
      "Epoch 25/100\n",
      "20000/20000 - 1s - loss: 0.0080 - accuracy: 0.9983 - AUC: 0.9989 - val_loss: 0.0261 - val_accuracy: 0.9955 - val_AUC: 0.9947\n",
      "Epoch 26/100\n",
      "20000/20000 - 1s - loss: 0.0067 - accuracy: 0.9985 - AUC: 0.9990 - val_loss: 0.0267 - val_accuracy: 0.9954 - val_AUC: 0.9949\n",
      "Epoch 27/100\n",
      "20000/20000 - 1s - loss: 0.0060 - accuracy: 0.9987 - AUC: 0.9992 - val_loss: 0.0282 - val_accuracy: 0.9956 - val_AUC: 0.9940\n",
      "Epoch 28/100\n",
      "20000/20000 - 1s - loss: 0.0073 - accuracy: 0.9984 - AUC: 0.9989 - val_loss: 0.0255 - val_accuracy: 0.9955 - val_AUC: 0.9950\n",
      "Epoch 29/100\n",
      "20000/20000 - 1s - loss: 0.0071 - accuracy: 0.9985 - AUC: 0.9990 - val_loss: 0.0251 - val_accuracy: 0.9959 - val_AUC: 0.9949\n",
      "Epoch 30/100\n",
      "20000/20000 - 1s - loss: 0.0068 - accuracy: 0.9985 - AUC: 0.9991 - val_loss: 0.0290 - val_accuracy: 0.9952 - val_AUC: 0.9940\n",
      "Epoch 31/100\n",
      "20000/20000 - 1s - loss: 0.0074 - accuracy: 0.9985 - AUC: 0.9988 - val_loss: 0.0275 - val_accuracy: 0.9955 - val_AUC: 0.9943\n",
      "Epoch 32/100\n",
      "20000/20000 - 1s - loss: 0.0071 - accuracy: 0.9986 - AUC: 0.9989 - val_loss: 0.0306 - val_accuracy: 0.9952 - val_AUC: 0.9938\n",
      "Epoch 33/100\n",
      "20000/20000 - 1s - loss: 0.0086 - accuracy: 0.9984 - AUC: 0.9988 - val_loss: 0.0279 - val_accuracy: 0.9955 - val_AUC: 0.9942\n",
      "Epoch 34/100\n",
      "20000/20000 - 1s - loss: 0.0080 - accuracy: 0.9984 - AUC: 0.9988 - val_loss: 0.0296 - val_accuracy: 0.9954 - val_AUC: 0.9941\n",
      "Epoch 35/100\n",
      "20000/20000 - 1s - loss: 0.0072 - accuracy: 0.9986 - AUC: 0.9989 - val_loss: 0.0316 - val_accuracy: 0.9955 - val_AUC: 0.9931\n",
      "Epoch 36/100\n",
      "20000/20000 - 1s - loss: 0.0078 - accuracy: 0.9984 - AUC: 0.9988 - val_loss: 0.0261 - val_accuracy: 0.9958 - val_AUC: 0.9945\n",
      "Epoch 37/100\n",
      "20000/20000 - 1s - loss: 0.0063 - accuracy: 0.9987 - AUC: 0.9990 - val_loss: 0.0271 - val_accuracy: 0.9955 - val_AUC: 0.9943\n",
      "Epoch 38/100\n",
      "20000/20000 - 1s - loss: 0.0067 - accuracy: 0.9988 - AUC: 0.9990 - val_loss: 0.0281 - val_accuracy: 0.9957 - val_AUC: 0.9943\n",
      "Epoch 39/100\n",
      "20000/20000 - 1s - loss: 0.0052 - accuracy: 0.9987 - AUC: 0.9993 - val_loss: 0.0281 - val_accuracy: 0.9957 - val_AUC: 0.9937\n",
      "Epoch 40/100\n",
      "20000/20000 - 1s - loss: 0.0052 - accuracy: 0.9990 - AUC: 0.9993 - val_loss: 0.0303 - val_accuracy: 0.9956 - val_AUC: 0.9937\n",
      "Epoch 41/100\n",
      "20000/20000 - 1s - loss: 0.0050 - accuracy: 0.9989 - AUC: 0.9994 - val_loss: 0.0293 - val_accuracy: 0.9955 - val_AUC: 0.9937\n",
      "Epoch 42/100\n",
      "20000/20000 - 1s - loss: 0.0060 - accuracy: 0.9988 - AUC: 0.9991 - val_loss: 0.0298 - val_accuracy: 0.9953 - val_AUC: 0.9944\n",
      "Epoch 43/100\n",
      "20000/20000 - 1s - loss: 0.0065 - accuracy: 0.9988 - AUC: 0.9991 - val_loss: 0.0316 - val_accuracy: 0.9953 - val_AUC: 0.9930\n",
      "Epoch 44/100\n",
      "20000/20000 - 1s - loss: 0.0052 - accuracy: 0.9989 - AUC: 0.9993 - val_loss: 0.0297 - val_accuracy: 0.9954 - val_AUC: 0.9938\n",
      "Epoch 45/100\n",
      "20000/20000 - 1s - loss: 0.0056 - accuracy: 0.9989 - AUC: 0.9991 - val_loss: 0.0296 - val_accuracy: 0.9953 - val_AUC: 0.9938\n",
      "Epoch 46/100\n",
      "20000/20000 - 1s - loss: 0.0063 - accuracy: 0.9988 - AUC: 0.9989 - val_loss: 0.0318 - val_accuracy: 0.9954 - val_AUC: 0.9928\n",
      "Epoch 47/100\n",
      "20000/20000 - 1s - loss: 0.0062 - accuracy: 0.9990 - AUC: 0.9989 - val_loss: 0.0340 - val_accuracy: 0.9951 - val_AUC: 0.9927\n",
      "Epoch 48/100\n",
      "20000/20000 - 1s - loss: 0.0063 - accuracy: 0.9990 - AUC: 0.9990 - val_loss: 0.0308 - val_accuracy: 0.9955 - val_AUC: 0.9938\n",
      "Epoch 49/100\n",
      "20000/20000 - 1s - loss: 0.0053 - accuracy: 0.9990 - AUC: 0.9992 - val_loss: 0.0320 - val_accuracy: 0.9956 - val_AUC: 0.9935\n",
      "Epoch 50/100\n",
      "20000/20000 - 1s - loss: 0.0054 - accuracy: 0.9989 - AUC: 0.9991 - val_loss: 0.0287 - val_accuracy: 0.9953 - val_AUC: 0.9941\n",
      "Epoch 51/100\n",
      "20000/20000 - 1s - loss: 0.0078 - accuracy: 0.9985 - AUC: 0.9988 - val_loss: 0.0315 - val_accuracy: 0.9956 - val_AUC: 0.9934\n",
      "Epoch 52/100\n",
      "20000/20000 - 1s - loss: 0.0052 - accuracy: 0.9991 - AUC: 0.9992 - val_loss: 0.0321 - val_accuracy: 0.9958 - val_AUC: 0.9933\n",
      "Epoch 53/100\n",
      "20000/20000 - 1s - loss: 0.0059 - accuracy: 0.9989 - AUC: 0.9990 - val_loss: 0.0293 - val_accuracy: 0.9959 - val_AUC: 0.9939\n",
      "Epoch 54/100\n",
      "20000/20000 - 1s - loss: 0.0053 - accuracy: 0.9989 - AUC: 0.9992 - val_loss: 0.0303 - val_accuracy: 0.9956 - val_AUC: 0.9939\n",
      "Epoch 55/100\n",
      "20000/20000 - 1s - loss: 0.0059 - accuracy: 0.9988 - AUC: 0.9990 - val_loss: 0.0328 - val_accuracy: 0.9952 - val_AUC: 0.9931\n",
      "Epoch 56/100\n",
      "20000/20000 - 1s - loss: 0.0052 - accuracy: 0.9989 - AUC: 0.9994 - val_loss: 0.0338 - val_accuracy: 0.9956 - val_AUC: 0.9929\n",
      "Epoch 57/100\n",
      "20000/20000 - 1s - loss: 0.0060 - accuracy: 0.9989 - AUC: 0.9990 - val_loss: 0.0307 - val_accuracy: 0.9956 - val_AUC: 0.9937\n",
      "Epoch 58/100\n",
      "20000/20000 - 1s - loss: 0.0052 - accuracy: 0.9991 - AUC: 0.9992 - val_loss: 0.0329 - val_accuracy: 0.9959 - val_AUC: 0.9927\n",
      "Epoch 59/100\n",
      "20000/20000 - 1s - loss: 0.0058 - accuracy: 0.9990 - AUC: 0.9991 - val_loss: 0.0328 - val_accuracy: 0.9958 - val_AUC: 0.9927\n",
      "Epoch 60/100\n",
      "20000/20000 - 1s - loss: 0.0049 - accuracy: 0.9989 - AUC: 0.9993 - val_loss: 0.0340 - val_accuracy: 0.9954 - val_AUC: 0.9929\n",
      "Epoch 61/100\n",
      "20000/20000 - 1s - loss: 0.0056 - accuracy: 0.9991 - AUC: 0.9991 - val_loss: 0.0329 - val_accuracy: 0.9957 - val_AUC: 0.9928\n",
      "Epoch 62/100\n",
      "20000/20000 - 1s - loss: 0.0046 - accuracy: 0.9991 - AUC: 0.9993 - val_loss: 0.0339 - val_accuracy: 0.9955 - val_AUC: 0.9925\n",
      "Epoch 63/100\n",
      "20000/20000 - 1s - loss: 0.0045 - accuracy: 0.9992 - AUC: 0.9992 - val_loss: 0.0333 - val_accuracy: 0.9955 - val_AUC: 0.9928\n",
      "Epoch 64/100\n",
      "20000/20000 - 1s - loss: 0.0043 - accuracy: 0.9991 - AUC: 0.9993 - val_loss: 0.0367 - val_accuracy: 0.9955 - val_AUC: 0.9919\n",
      "Epoch 65/100\n",
      "20000/20000 - 1s - loss: 0.0045 - accuracy: 0.9991 - AUC: 0.9992 - val_loss: 0.0341 - val_accuracy: 0.9955 - val_AUC: 0.9924\n",
      "Epoch 66/100\n",
      "20000/20000 - 1s - loss: 0.0051 - accuracy: 0.9990 - AUC: 0.9992 - val_loss: 0.0340 - val_accuracy: 0.9954 - val_AUC: 0.9931\n",
      "Epoch 67/100\n",
      "20000/20000 - 1s - loss: 0.0057 - accuracy: 0.9988 - AUC: 0.9991 - val_loss: 0.0382 - val_accuracy: 0.9953 - val_AUC: 0.9920\n",
      "Epoch 68/100\n",
      "20000/20000 - 1s - loss: 0.0046 - accuracy: 0.9991 - AUC: 0.9992 - val_loss: 0.0344 - val_accuracy: 0.9956 - val_AUC: 0.9930\n",
      "Epoch 69/100\n",
      "20000/20000 - 1s - loss: 0.0042 - accuracy: 0.9993 - AUC: 0.9994 - val_loss: 0.0339 - val_accuracy: 0.9958 - val_AUC: 0.9929\n",
      "Epoch 70/100\n",
      "20000/20000 - 1s - loss: 0.0064 - accuracy: 0.9988 - AUC: 0.9989 - val_loss: 0.0327 - val_accuracy: 0.9953 - val_AUC: 0.9930\n",
      "Epoch 71/100\n",
      "20000/20000 - 1s - loss: 0.0053 - accuracy: 0.9991 - AUC: 0.9991 - val_loss: 0.0371 - val_accuracy: 0.9952 - val_AUC: 0.9924\n",
      "Epoch 72/100\n",
      "20000/20000 - 1s - loss: 0.0049 - accuracy: 0.9991 - AUC: 0.9992 - val_loss: 0.0379 - val_accuracy: 0.9954 - val_AUC: 0.9918\n",
      "Epoch 73/100\n",
      "20000/20000 - 1s - loss: 0.0048 - accuracy: 0.9991 - AUC: 0.9993 - val_loss: 0.0409 - val_accuracy: 0.9950 - val_AUC: 0.9912\n",
      "Epoch 74/100\n",
      "20000/20000 - 1s - loss: 0.0039 - accuracy: 0.9993 - AUC: 0.9994 - val_loss: 0.0364 - val_accuracy: 0.9956 - val_AUC: 0.9922\n",
      "Epoch 75/100\n",
      "20000/20000 - 1s - loss: 0.0047 - accuracy: 0.9993 - AUC: 0.9991 - val_loss: 0.0371 - val_accuracy: 0.9954 - val_AUC: 0.9923\n",
      "Epoch 76/100\n",
      "20000/20000 - 1s - loss: 0.0052 - accuracy: 0.9990 - AUC: 0.9991 - val_loss: 0.0430 - val_accuracy: 0.9950 - val_AUC: 0.9910\n",
      "Epoch 77/100\n",
      "20000/20000 - 1s - loss: 0.0044 - accuracy: 0.9992 - AUC: 0.9992 - val_loss: 0.0411 - val_accuracy: 0.9953 - val_AUC: 0.9917\n",
      "Epoch 78/100\n",
      "20000/20000 - 1s - loss: 0.0050 - accuracy: 0.9992 - AUC: 0.9991 - val_loss: 0.0389 - val_accuracy: 0.9956 - val_AUC: 0.9916\n",
      "Epoch 79/100\n",
      "20000/20000 - 1s - loss: 0.0048 - accuracy: 0.9992 - AUC: 0.9993 - val_loss: 0.0375 - val_accuracy: 0.9957 - val_AUC: 0.9921\n",
      "Epoch 80/100\n",
      "20000/20000 - 1s - loss: 0.0061 - accuracy: 0.9990 - AUC: 0.9989 - val_loss: 0.0440 - val_accuracy: 0.9952 - val_AUC: 0.9902\n",
      "Epoch 81/100\n",
      "20000/20000 - 1s - loss: 0.0047 - accuracy: 0.9992 - AUC: 0.9992 - val_loss: 0.0339 - val_accuracy: 0.9954 - val_AUC: 0.9929\n",
      "Epoch 82/100\n",
      "20000/20000 - 1s - loss: 0.0049 - accuracy: 0.9991 - AUC: 0.9991 - val_loss: 0.0382 - val_accuracy: 0.9950 - val_AUC: 0.9923\n",
      "Epoch 83/100\n",
      "20000/20000 - 1s - loss: 0.0053 - accuracy: 0.9992 - AUC: 0.9991 - val_loss: 0.0396 - val_accuracy: 0.9955 - val_AUC: 0.9917\n",
      "Epoch 84/100\n",
      "20000/20000 - 1s - loss: 0.0042 - accuracy: 0.9993 - AUC: 0.9993 - val_loss: 0.0365 - val_accuracy: 0.9954 - val_AUC: 0.9927\n",
      "Epoch 85/100\n",
      "20000/20000 - 1s - loss: 0.0040 - accuracy: 0.9992 - AUC: 0.9994 - val_loss: 0.0395 - val_accuracy: 0.9952 - val_AUC: 0.9918\n",
      "Epoch 86/100\n",
      "20000/20000 - 1s - loss: 0.0056 - accuracy: 0.9991 - AUC: 0.9991 - val_loss: 0.0419 - val_accuracy: 0.9954 - val_AUC: 0.9912\n",
      "Epoch 87/100\n",
      "20000/20000 - 1s - loss: 0.0049 - accuracy: 0.9992 - AUC: 0.9991 - val_loss: 0.0393 - val_accuracy: 0.9956 - val_AUC: 0.9920\n",
      "Epoch 88/100\n",
      "20000/20000 - 1s - loss: 0.0048 - accuracy: 0.9993 - AUC: 0.9991 - val_loss: 0.0388 - val_accuracy: 0.9955 - val_AUC: 0.9921\n",
      "Epoch 89/100\n",
      "20000/20000 - 1s - loss: 0.0051 - accuracy: 0.9992 - AUC: 0.9992 - val_loss: 0.0416 - val_accuracy: 0.9954 - val_AUC: 0.9911\n",
      "Epoch 90/100\n",
      "20000/20000 - 1s - loss: 0.0062 - accuracy: 0.9990 - AUC: 0.9989 - val_loss: 0.0388 - val_accuracy: 0.9954 - val_AUC: 0.9917\n",
      "Epoch 91/100\n",
      "20000/20000 - 1s - loss: 0.0054 - accuracy: 0.9991 - AUC: 0.9990 - val_loss: 0.0411 - val_accuracy: 0.9954 - val_AUC: 0.9916\n",
      "Epoch 92/100\n",
      "20000/20000 - 1s - loss: 0.0039 - accuracy: 0.9994 - AUC: 0.9994 - val_loss: 0.0394 - val_accuracy: 0.9955 - val_AUC: 0.9918\n",
      "Epoch 93/100\n",
      "20000/20000 - 1s - loss: 0.0046 - accuracy: 0.9993 - AUC: 0.9992 - val_loss: 0.0417 - val_accuracy: 0.9955 - val_AUC: 0.9914\n",
      "Epoch 94/100\n",
      "20000/20000 - 1s - loss: 0.0046 - accuracy: 0.9993 - AUC: 0.9992 - val_loss: 0.0442 - val_accuracy: 0.9951 - val_AUC: 0.9906\n",
      "Epoch 95/100\n",
      "20000/20000 - 1s - loss: 0.0052 - accuracy: 0.9991 - AUC: 0.9991 - val_loss: 0.0395 - val_accuracy: 0.9955 - val_AUC: 0.9917\n",
      "Epoch 96/100\n",
      "20000/20000 - 1s - loss: 0.0038 - accuracy: 0.9994 - AUC: 0.9993 - val_loss: 0.0374 - val_accuracy: 0.9957 - val_AUC: 0.9924\n",
      "Epoch 97/100\n",
      "20000/20000 - 1s - loss: 0.0047 - accuracy: 0.9993 - AUC: 0.9991 - val_loss: 0.0346 - val_accuracy: 0.9957 - val_AUC: 0.9930\n",
      "Epoch 98/100\n",
      "20000/20000 - 1s - loss: 0.0050 - accuracy: 0.9992 - AUC: 0.9990 - val_loss: 0.0382 - val_accuracy: 0.9957 - val_AUC: 0.9920\n",
      "Epoch 99/100\n",
      "20000/20000 - 1s - loss: 0.0049 - accuracy: 0.9993 - AUC: 0.9992 - val_loss: 0.0389 - val_accuracy: 0.9956 - val_AUC: 0.9916\n",
      "Epoch 100/100\n",
      "20000/20000 - 1s - loss: 0.0042 - accuracy: 0.9994 - AUC: 0.9992 - val_loss: 0.0419 - val_accuracy: 0.9953 - val_AUC: 0.9909\n"
     ]
    }
   ],
   "source": [
    "H = base_model.fit(trainX,trainY,batch_size = 64, epochs = 100, validation_data=(testX,testY) ,callbacks = callbacks_list, verbose=2)  #verbose = 1显示进度条"
   ]
  },
  {
   "cell_type": "code",
   "execution_count": 19,
   "metadata": {},
   "outputs": [
    {
     "name": "stdout",
     "output_type": "stream",
     "text": [
      "dict_keys(['loss', 'accuracy', 'AUC', 'val_loss', 'val_accuracy', 'val_AUC'])\n"
     ]
    },
    {
     "data": {
      "image/png": "[encoded data removed]",
      "text/plain": [
       "<Figure size 1152x576 with 1 Axes>"
      ]
     },
     "metadata": {},
     "output_type": "display_data"
    }
   ],
   "source": [
    "from matplotlib.pyplot import MultipleLocator\n",
    "print(H.history.keys())\n",
    "plt.style.use(\"ggplot\")\n",
    "plt.figure(figsize=(16,8))\n",
    "# plt.plot(np.arange(0, 200), H.history[\"loss\"], label = \"train_loss\")\n",
    "# plt.plot(np.arange(0, 200), H.history[\"val_loss\"], label = \"val_loss\")\n",
    "plt.plot(np.arange(0, 100), H.history[\"loss\"], label = \"train_loss\")\n",
    "plt.plot(np.arange(0, 100), H.history[\"val_loss\"], label = \"val_loss\")\n",
    "plt.title(\"Model loss\")\n",
    "plt.xlabel(\"Epoch\")\n",
    "plt.ylabel(\"Loss\")\n",
    "x_major_locator=MultipleLocator(20)\n",
    "y_major_locator=MultipleLocator(0.02)\n",
    "ax=plt.gca()\n",
    "#ax为两条坐标轴的实例\n",
    "ax.xaxis.set_major_locator(x_major_locator)\n",
    "#把x轴的主刻度设置为1的倍数\n",
    "ax.yaxis.set_major_locator(y_major_locator)\n",
    "plt.xlim(0,100)\n",
    "#把x轴的刻度范围设置为-0.5到11，因为0.5不满一个刻度间隔，所以数字不会显示出来，但是能看到一点空白\n",
    "plt.ylim(0,1)\n",
    "\n",
    "plt.legend(['train_loss','val_loss'],loc='upper right')\n",
    "plt.show()"
   ]
  },
  {
   "cell_type": "code",
   "execution_count": 21,
   "metadata": {},
   "outputs": [
    {
     "name": "stdout",
     "output_type": "stream",
     "text": [
      "(10000, 10)\n",
      "[4 2 4 ... 9 1 1]\n",
      "(10000,)\n",
      "['0', '1', '2', '3', '4', '5', '6', '7', '8', '9']\n",
      "              precision    recall  f1-score   support\n",
      "\n",
      "           0      0.987     0.989     0.988       997\n",
      "           1      0.992     0.987     0.989      1135\n",
      "           2      0.953     0.974     0.963       989\n",
      "           3      0.980     0.975     0.978      1013\n",
      "           4      0.977     0.978     0.978       957\n",
      "           5      0.992     0.956     0.973       858\n",
      "           6      0.977     0.985     0.981       972\n",
      "           7      0.972     0.979     0.975      1075\n",
      "           8      0.967     0.969     0.968       995\n",
      "           9      0.970     0.970     0.970      1009\n",
      "\n",
      "    accuracy                          0.977     10000\n",
      "   macro avg      0.977     0.976     0.976     10000\n",
      "weighted avg      0.977     0.977     0.977     10000\n",
      "\n"
     ]
    }
   ],
   "source": [
    "from sklearn.metrics import classification_report\n",
    "predictions = base_model.predict(testX, batch_size = 64)\n",
    "print(np.shape(predictions))\n",
    "print(predictions.argmax(axis =1))\n",
    "print(testY.argmax(axis = 1).shape)\n",
    "leclass = [str(i) for i in le.classes_]\n",
    "print(leclass)\n",
    "print(classification_report(testY.argmax(axis = 1), predictions.argmax(axis = 1),\n",
    "                           target_names = leclass,digits=3))"
   ]
  },
  {
   "cell_type": "code",
   "execution_count": null,
   "metadata": {},
   "outputs": [],
   "source": []
  }
 ],
 "metadata": {
  "kernelspec": {
   "display_name": "Python 3",
   "language": "python",
   "name": "python3"
  },
  "language_info": {
   "codemirror_mode": {
    "name": "ipython",
    "version": 3
   },
   "file_extension": ".py",
   "mimetype": "text/x-python",
   "name": "python",
   "nbconvert_exporter": "python",
   "pygments_lexer": "ipython3",
   "version": "3.7.7"
  }
 },
 "nbformat": 4,
 "nbformat_minor": 4
}
